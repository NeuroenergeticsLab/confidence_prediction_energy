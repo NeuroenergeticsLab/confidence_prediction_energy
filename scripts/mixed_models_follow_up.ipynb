{
 "cells": [
  {
   "cell_type": "code",
   "execution_count": 6,
   "metadata": {},
   "outputs": [],
   "source": [
    "from os.path import join as opjoin\n",
    "import numpy as np, pandas as pd\n",
    "\n",
    "import matplotlib.pyplot as plt\n",
    "import forestplot as fp"
   ]
  },
  {
   "cell_type": "code",
   "execution_count": 3,
   "metadata": {},
   "outputs": [
    {
     "data": {
      "text/html": [
       "<div>\n",
       "<style scoped>\n",
       "    .dataframe tbody tr th:only-of-type {\n",
       "        vertical-align: middle;\n",
       "    }\n",
       "\n",
       "    .dataframe tbody tr th {\n",
       "        vertical-align: top;\n",
       "    }\n",
       "\n",
       "    .dataframe thead th {\n",
       "        text-align: right;\n",
       "    }\n",
       "</style>\n",
       "<table border=\"1\" class=\"dataframe\">\n",
       "  <thead>\n",
       "    <tr style=\"text-align: right;\">\n",
       "      <th></th>\n",
       "      <th>Parameter</th>\n",
       "      <th>Coefficient</th>\n",
       "      <th>SE</th>\n",
       "      <th>CI</th>\n",
       "      <th>CI_low</th>\n",
       "      <th>CI_high</th>\n",
       "      <th>t</th>\n",
       "      <th>df_error</th>\n",
       "      <th>p</th>\n",
       "      <th>Effects</th>\n",
       "      <th>p_fdr</th>\n",
       "      <th>ParameterLabel</th>\n",
       "      <th>ParameterGroup</th>\n",
       "    </tr>\n",
       "  </thead>\n",
       "  <tbody>\n",
       "    <tr>\n",
       "      <th>0</th>\n",
       "      <td>(Intercept)</td>\n",
       "      <td>138.396929</td>\n",
       "      <td>3.767193</td>\n",
       "      <td>0.95</td>\n",
       "      <td>131.013170</td>\n",
       "      <td>145.780687</td>\n",
       "      <td>36.737416</td>\n",
       "      <td>45475</td>\n",
       "      <td>3.450000e-291</td>\n",
       "      <td>fixed</td>\n",
       "      <td>1.000000e-289</td>\n",
       "      <td>Intercept</td>\n",
       "      <td>Intercept</td>\n",
       "    </tr>\n",
       "    <tr>\n",
       "      <th>1</th>\n",
       "      <td>networkControl</td>\n",
       "      <td>10.966326</td>\n",
       "      <td>1.513936</td>\n",
       "      <td>0.95</td>\n",
       "      <td>7.998987</td>\n",
       "      <td>13.933665</td>\n",
       "      <td>7.243586</td>\n",
       "      <td>45475</td>\n",
       "      <td>4.440000e-13</td>\n",
       "      <td>fixed</td>\n",
       "      <td>3.220000e-12</td>\n",
       "      <td>network[Control]</td>\n",
       "      <td>Network (ref: Visual)</td>\n",
       "    </tr>\n",
       "    <tr>\n",
       "      <th>2</th>\n",
       "      <td>networkDefaultMode</td>\n",
       "      <td>8.311806</td>\n",
       "      <td>1.325243</td>\n",
       "      <td>0.95</td>\n",
       "      <td>5.714309</td>\n",
       "      <td>10.909304</td>\n",
       "      <td>6.271911</td>\n",
       "      <td>45475</td>\n",
       "      <td>3.600000e-10</td>\n",
       "      <td>fixed</td>\n",
       "      <td>2.090000e-09</td>\n",
       "      <td>network[DMN]</td>\n",
       "      <td>Network (ref: Visual)</td>\n",
       "    </tr>\n",
       "    <tr>\n",
       "      <th>3</th>\n",
       "      <td>networkDorsAttn</td>\n",
       "      <td>0.659517</td>\n",
       "      <td>1.555943</td>\n",
       "      <td>0.95</td>\n",
       "      <td>-2.390156</td>\n",
       "      <td>3.709190</td>\n",
       "      <td>0.423870</td>\n",
       "      <td>45475</td>\n",
       "      <td>6.716627e-01</td>\n",
       "      <td>fixed</td>\n",
       "      <td>6.956507e-01</td>\n",
       "      <td>network[DorsAttn]</td>\n",
       "      <td>Network (ref: Visual)</td>\n",
       "    </tr>\n",
       "    <tr>\n",
       "      <th>4</th>\n",
       "      <td>networkSalVentAttn</td>\n",
       "      <td>-17.524206</td>\n",
       "      <td>1.546647</td>\n",
       "      <td>0.95</td>\n",
       "      <td>-20.555660</td>\n",
       "      <td>-14.492752</td>\n",
       "      <td>-11.330446</td>\n",
       "      <td>45475</td>\n",
       "      <td>1.020000e-29</td>\n",
       "      <td>fixed</td>\n",
       "      <td>1.470000e-28</td>\n",
       "      <td>network[Salience]</td>\n",
       "      <td>Network (ref: Visual)</td>\n",
       "    </tr>\n",
       "  </tbody>\n",
       "</table>\n",
       "</div>"
      ],
      "text/plain": [
       "            Parameter  Coefficient        SE    CI      CI_low     CI_high  \\\n",
       "0         (Intercept)   138.396929  3.767193  0.95  131.013170  145.780687   \n",
       "1      networkControl    10.966326  1.513936  0.95    7.998987   13.933665   \n",
       "2  networkDefaultMode     8.311806  1.325243  0.95    5.714309   10.909304   \n",
       "3     networkDorsAttn     0.659517  1.555943  0.95   -2.390156    3.709190   \n",
       "4  networkSalVentAttn   -17.524206  1.546647  0.95  -20.555660  -14.492752   \n",
       "\n",
       "           t  df_error              p Effects          p_fdr  \\\n",
       "0  36.737416     45475  3.450000e-291   fixed  1.000000e-289   \n",
       "1   7.243586     45475   4.440000e-13   fixed   3.220000e-12   \n",
       "2   6.271911     45475   3.600000e-10   fixed   2.090000e-09   \n",
       "3   0.423870     45475   6.716627e-01   fixed   6.956507e-01   \n",
       "4 -11.330446     45475   1.020000e-29   fixed   1.470000e-28   \n",
       "\n",
       "      ParameterLabel         ParameterGroup  \n",
       "0          Intercept              Intercept  \n",
       "1   network[Control]  Network (ref: Visual)  \n",
       "2       network[DMN]  Network (ref: Visual)  \n",
       "3  network[DorsAttn]  Network (ref: Visual)  \n",
       "4  network[Salience]  Network (ref: Visual)  "
      ]
     },
     "execution_count": 3,
     "metadata": {},
     "output_type": "execute_result"
    }
   ],
   "source": [
    "### In addition to the model output, this dataframe includes more descriptive parameter names and groupings\n",
    "df_lmer_annot = pd.read_csv(\"/home/tumnic/ahechler/ebits_manuscript/predictionMetabolism/data/lmer_parameters_annotated.csv\")\n",
    "df_lmer_annot.head()"
   ]
  },
  {
   "cell_type": "markdown",
   "metadata": {},
   "source": [
    "# Formatted model output"
   ]
  },
  {
   "cell_type": "code",
   "execution_count": 5,
   "metadata": {},
   "outputs": [
    {
     "data": {
      "image/png": "[encoded data removed]",
      "text/plain": [
       "<Figure size 432x864 with 1 Axes>"
      ]
     },
     "metadata": {},
     "output_type": "display_data"
    }
   ],
   "source": [
    "# Drop the intercept to keep the plot readable\n",
    "df_lmer_annot2 = df_lmer_annot.query(\"ParameterLabel != 'Intercept'\")\n",
    "# 3 digit precision\n",
    "df_lmer_annot2 = np.round(df_lmer_annot2, 3)\n",
    "# Reorder by coefficient values to make plotting more readable\n",
    "df_lmer_annot2 = df_lmer_annot2.groupby('ParameterGroup', sort=False).apply(lambda x: x.sort_values('Coefficient'))\n",
    "\n",
    "fp.forestplot(\n",
    "    # pass the dataframe\n",
    "    df_lmer_annot2,  \n",
    "    estimate=\"Coefficient\",  # col containing estimated effect size\n",
    "    ll=\"CI_low\",\n",
    "    hl=\"CI_high\",  # lower & higher limits of conf. int.\n",
    "    ci_report=False,\n",
    "    varlabel=\"ParameterLabel\",  # column containing the varlabels to be printed on far left\n",
    "    capitalize=\"capitalize\",  # Capitalize labels\n",
    "    pval=\"p_fdr\",  # column containing p-values to be formatted\n",
    "    annote=[\"est_ci\"],  # columns to report on left of plot\n",
    "    annoteheaders=[\"Estimate (95% CI)\"],  # ^corresponding headers\n",
    "    rightannote=[\"t\",\"p\",\"formatted_pval\"],  # columns to report on right of plot\n",
    "    right_annoteheaders=[\"t\",\"p\",\"p(FDR)\"],  # ^corresponding headers\n",
    "    groupvar=\"ParameterGroup\",  # column containing group labels\n",
    "    xlabel=\"CMRO2 (µmol O2/100g/min)\",  # x-label title\n",
    "    xticks=[-20,-15,-10,-5,0,5,10],  # x-ticks to be printed\n",
    "    table=True,  # Format as a table\n",
    "    #color_alt_rows=True,\n",
    "    figsize=(6,12),\n",
    "    # Additional kwargs for customizations\n",
    "    **{\n",
    "        \"variable_header\":'Predictor',\n",
    "        \"thresholds\":(0.001,0.01,0.05), # thresholds for star notation\n",
    "        \"marker\": \"D\",  # set maker symbol as diamond\n",
    "        \"markersize\": 35,  # adjust marker size\n",
    "        \"xlinestyle\": (0, (10, 5)),  # long dash for x-reference line\n",
    "        \"xlinecolor\": \".1\",  # gray color for x-reference line\n",
    "        \"xtick_size\": 12,  # adjust x-ticker fontsize\n",
    "    },\n",
    ")\n",
    "\n",
    "# Note that the figure used in the paper has slight visual adapations to the marker diamonds to make it more readable."
   ]
  },
  {
   "cell_type": "markdown",
   "metadata": {},
   "source": [
    "# Cortical CMRO2 calculations"
   ]
  },
  {
   "cell_type": "code",
   "execution_count": 7,
   "metadata": {},
   "outputs": [
    {
     "data": {
      "text/plain": [
       "<nilearn.plotting.displays.OrthoSlicer at 0x7f84d239a280>"
      ]
     },
     "execution_count": 7,
     "metadata": {},
     "output_type": "execute_result"
    },
    {
     "data": {
      "image/png": "[encoded data removed]",
      "text/plain": [
       "<Figure size 475.2x187.2 with 4 Axes>"
      ]
     },
     "metadata": {},
     "output_type": "display_data"
    }
   ],
   "source": [
    "from nilearn import image as nil, plotting as nip\n",
    "from templateflow import api as tflow\n",
    "\n",
    "# Get a T1 for visualization\n",
    "mni_t1 = str(tflow.get('MNI152NLin2009cAsym', resolution=1, desc='brain', suffix='T1w'))\n",
    "### Load the Schaefer atlas we used: 400 parcels, 7 networks\n",
    "schaefer_atlas = nil.load_img(\"../data/tpl-MNI152NLin2009cAsym_res-02_atlas-Schaefer2018_desc-7Networks_dseg.nii.gz\")\n",
    "# We don't have reliable data on the limbic system due to high signal dropout in frontopolar and temporo-polar regions\n",
    "atlas_sixNetworks = nil.math_img('np.where(img == 7,0,img)', img=schaefer_atlas)\n",
    "nip.plot_roi(atlas_sixNetworks, bg_img=mni_t1, draw_cross=False)"
   ]
  },
  {
   "cell_type": "code",
   "execution_count": 18,
   "metadata": {},
   "outputs": [
    {
     "data": {
      "text/html": [
       "<div>\n",
       "<style scoped>\n",
       "    .dataframe tbody tr th:only-of-type {\n",
       "        vertical-align: middle;\n",
       "    }\n",
       "\n",
       "    .dataframe tbody tr th {\n",
       "        vertical-align: top;\n",
       "    }\n",
       "\n",
       "    .dataframe thead th {\n",
       "        text-align: right;\n",
       "    }\n",
       "</style>\n",
       "<table border=\"1\" class=\"dataframe\">\n",
       "  <thead>\n",
       "    <tr style=\"text-align: right;\">\n",
       "      <th></th>\n",
       "      <th>network</th>\n",
       "      <th>voxels</th>\n",
       "      <th>mass</th>\n",
       "    </tr>\n",
       "  </thead>\n",
       "  <tbody>\n",
       "    <tr>\n",
       "      <th>0</th>\n",
       "      <td>Visual</td>\n",
       "      <td>23444</td>\n",
       "      <td>195.05408</td>\n",
       "    </tr>\n",
       "    <tr>\n",
       "      <th>1</th>\n",
       "      <td>SomatoMotor</td>\n",
       "      <td>19937</td>\n",
       "      <td>165.87584</td>\n",
       "    </tr>\n",
       "    <tr>\n",
       "      <th>2</th>\n",
       "      <td>DorsalAtt</td>\n",
       "      <td>15119</td>\n",
       "      <td>125.79008</td>\n",
       "    </tr>\n",
       "    <tr>\n",
       "      <th>3</th>\n",
       "      <td>Salience</td>\n",
       "      <td>14697</td>\n",
       "      <td>122.27904</td>\n",
       "    </tr>\n",
       "    <tr>\n",
       "      <th>4</th>\n",
       "      <td>Control</td>\n",
       "      <td>19789</td>\n",
       "      <td>164.64448</td>\n",
       "    </tr>\n",
       "    <tr>\n",
       "      <th>5</th>\n",
       "      <td>DefaultMode</td>\n",
       "      <td>34498</td>\n",
       "      <td>287.02336</td>\n",
       "    </tr>\n",
       "  </tbody>\n",
       "</table>\n",
       "</div>"
      ],
      "text/plain": [
       "       network  voxels       mass\n",
       "0       Visual   23444  195.05408\n",
       "1  SomatoMotor   19937  165.87584\n",
       "2    DorsalAtt   15119  125.79008\n",
       "3     Salience   14697  122.27904\n",
       "4      Control   19789  164.64448\n",
       "5  DefaultMode   34498  287.02336"
      ]
     },
     "execution_count": 18,
     "metadata": {},
     "output_type": "execute_result"
    }
   ],
   "source": [
    "### Approximate the grey matter mass per network\n",
    "# Make the simplifying assumption that voxels assigned to networks are 100% grey matter\n",
    "\n",
    "yeo_nw_data = atlas_sixNetworks.get_fdata()\n",
    "\n",
    "df_nw_vox = pd.DataFrame(columns=['network','voxels'])\n",
    "for nw in range(1,7):\n",
    "    voxels = np.sum(yeo_nw_data == nw)\n",
    "    df_nw_vox.loc[len(df_nw_vox)] = [nw, voxels]\n",
    "\n",
    "# 0.00832g of grey matter per GM voxel in 2mm³ space\n",
    "df_nw_vox['mass'] = df_nw_vox['voxels'] * 0.00832\n",
    "# get network names\n",
    "df_nw_vox = df_nw_vox.replace({'network':{1:'Visual',2:'SomatoMotor',3:'DorsalAtt',4:'Salience',5:'Control',6:'DefaultMode'}})\n",
    "\n",
    "df_nw_vox"
   ]
  },
  {
   "cell_type": "code",
   "execution_count": 20,
   "metadata": {},
   "outputs": [],
   "source": [
    "### Get the predicted CMRO2 per network and scale to their grey matter mass\n",
    "\n",
    "# Set an index for easier extraction of coefficient estimates\n",
    "df_lmer_annot = df_lmer_annot.set_index('Parameter')\n",
    "\n",
    "### Calcute mass-adjusted CMRO2\n",
    "coef_intercept = df_lmer_annot.loc['(Intercept)','Coefficient']\n",
    "# The visual network is the reference, so we assign a value of 0. The same goes for the non-significant coefficient of the Dorsal Attention network\n",
    "coefs_networks = [0, # Visual\n",
    "                df_lmer_annot.loc['networkSomatoMotor','Coefficient'],\n",
    "                0, # DorsAttn\n",
    "                df_lmer_annot.loc['networkSalVentAttn','Coefficient'],\n",
    "                df_lmer_annot.loc['networkControl','Coefficient'],\n",
    "                df_lmer_annot.loc['networkDefaultMode','Coefficient']]\n",
    "# Predicted network-wise CMRO2 is the combination of the intercept (representing the visual network during predictable input) and the network coefficients\n",
    "cmro2_avg = [coef_intercept + coef for coef in coefs_networks]\n",
    "df_nw_vox['cmro2_avg'] = cmro2_avg\n",
    "# Scale CMRO2 up to grey matter mass, resulting in the simplified unit of µmol O2/min\n",
    "df_nw_vox['cmro2_massadj'] = df_nw_vox['cmro2_avg'] * (df_nw_vox['mass']/100)"
   ]
  },
  {
   "cell_type": "code",
   "execution_count": 21,
   "metadata": {},
   "outputs": [],
   "source": [
    "def calc_confidence_savings(df_networks, df_model, coef_column):\n",
    "    '''Extends the dataframe with network-wise energy savings for high confidence relative to low confidence observers.'''\n",
    "\n",
    "    ### Add model parameters for the confidence:network interaction\n",
    "    # Networks with a non-significant interaction get the reference effect assigned\n",
    "    df_networks['conf_cmro2'] = [df_model.loc['confidence_z',coef_column], # Visual\n",
    "                            df_model.loc['confidence_z',coef_column], # SomatoMotor\n",
    "                            df_model.loc['confidence_z',coef_column], # Dorsal Attention\n",
    "                            df_model.loc['confidence_z',coef_column] + df_model.loc['confidence_z:networkSalVentAttn', 'Coefficient'], # Salience: Simple slopes indicated p<0.05 for combined effect\n",
    "                            df_model.loc['confidence_z',coef_column] + df_model.loc['confidence_z:networkControl', 'Coefficient'], # Control: Simple slopes indicated p<0.05 for combined effect\n",
    "                            df_model.loc['confidence_z',coef_column]] # Default Mode\n",
    "    df_networks['conf_cmro2_adj'] = df_networks['conf_cmro2'] * (df_networks['mass']/100)\n",
    "\n",
    "    ### Calculate predicted cost for low and high confidence\n",
    "    df_networks['cmro2_lowConf_adj'] = df_networks['cmro2_massadj'] + (df_networks['conf_cmro2_adj']*(-1.96)) # low confidence: 5th percentile; z-value of -1.96\n",
    "    df_networks['cmro2_highConf_adj'] = df_networks['cmro2_massadj'] + (df_networks['conf_cmro2_adj']*(1.96)) # high confidence: 95th percentile; z-value of 1.96\n",
    "\n",
    "    ### Calculate absolute difference and relative saving for high confidence\n",
    "    df_networks['Conf_saving_percent'] = ((df_networks['cmro2_highConf_adj'] - df_networks['cmro2_lowConf_adj']) / df_networks['cmro2_lowConf_adj'])  * 100\n",
    "\n",
    "    return df_networks"
   ]
  },
  {
   "cell_type": "code",
   "execution_count": 22,
   "metadata": {},
   "outputs": [
    {
     "name": "stdout",
     "output_type": "stream",
     "text": [
      "Estimated energy savings:\n"
     ]
    },
    {
     "data": {
      "text/html": [
       "<div>\n",
       "<style scoped>\n",
       "    .dataframe tbody tr th:only-of-type {\n",
       "        vertical-align: middle;\n",
       "    }\n",
       "\n",
       "    .dataframe tbody tr th {\n",
       "        vertical-align: top;\n",
       "    }\n",
       "\n",
       "    .dataframe thead th {\n",
       "        text-align: right;\n",
       "    }\n",
       "</style>\n",
       "<table border=\"1\" class=\"dataframe\">\n",
       "  <thead>\n",
       "    <tr style=\"text-align: right;\">\n",
       "      <th></th>\n",
       "      <th>network</th>\n",
       "      <th>voxels</th>\n",
       "      <th>mass</th>\n",
       "      <th>cmro2_avg</th>\n",
       "      <th>cmro2_massadj</th>\n",
       "      <th>conf_cmro2</th>\n",
       "      <th>conf_cmro2_adj</th>\n",
       "      <th>cmro2_lowConf_adj</th>\n",
       "      <th>cmro2_highConf_adj</th>\n",
       "      <th>Conf_saving_percent</th>\n",
       "    </tr>\n",
       "  </thead>\n",
       "  <tbody>\n",
       "    <tr>\n",
       "      <th>0</th>\n",
       "      <td>Visual</td>\n",
       "      <td>23444</td>\n",
       "      <td>195.05408</td>\n",
       "      <td>138.396929</td>\n",
       "      <td>269.948856</td>\n",
       "      <td>-6.162564</td>\n",
       "      <td>-12.020332</td>\n",
       "      <td>293.508706</td>\n",
       "      <td>246.389006</td>\n",
       "      <td>-16.053936</td>\n",
       "    </tr>\n",
       "    <tr>\n",
       "      <th>1</th>\n",
       "      <td>SomatoMotor</td>\n",
       "      <td>19937</td>\n",
       "      <td>165.87584</td>\n",
       "      <td>127.212886</td>\n",
       "      <td>211.015444</td>\n",
       "      <td>-6.162564</td>\n",
       "      <td>-10.222204</td>\n",
       "      <td>231.050963</td>\n",
       "      <td>190.979924</td>\n",
       "      <td>-17.342944</td>\n",
       "    </tr>\n",
       "    <tr>\n",
       "      <th>2</th>\n",
       "      <td>DorsalAtt</td>\n",
       "      <td>15119</td>\n",
       "      <td>125.79008</td>\n",
       "      <td>138.396929</td>\n",
       "      <td>174.089607</td>\n",
       "      <td>-6.162564</td>\n",
       "      <td>-7.751894</td>\n",
       "      <td>189.283319</td>\n",
       "      <td>158.895896</td>\n",
       "      <td>-16.053936</td>\n",
       "    </tr>\n",
       "    <tr>\n",
       "      <th>3</th>\n",
       "      <td>Salience</td>\n",
       "      <td>14697</td>\n",
       "      <td>122.27904</td>\n",
       "      <td>120.872722</td>\n",
       "      <td>147.802004</td>\n",
       "      <td>-3.387384</td>\n",
       "      <td>-4.142061</td>\n",
       "      <td>155.920444</td>\n",
       "      <td>139.683564</td>\n",
       "      <td>-10.413567</td>\n",
       "    </tr>\n",
       "    <tr>\n",
       "      <th>4</th>\n",
       "      <td>Control</td>\n",
       "      <td>19789</td>\n",
       "      <td>164.64448</td>\n",
       "      <td>149.363255</td>\n",
       "      <td>245.918354</td>\n",
       "      <td>-1.225136</td>\n",
       "      <td>-2.017119</td>\n",
       "      <td>249.871907</td>\n",
       "      <td>241.964800</td>\n",
       "      <td>-3.164464</td>\n",
       "    </tr>\n",
       "    <tr>\n",
       "      <th>5</th>\n",
       "      <td>DefaultMode</td>\n",
       "      <td>34498</td>\n",
       "      <td>287.02336</td>\n",
       "      <td>146.708735</td>\n",
       "      <td>421.088340</td>\n",
       "      <td>-6.162564</td>\n",
       "      <td>-17.687997</td>\n",
       "      <td>455.756814</td>\n",
       "      <td>386.419866</td>\n",
       "      <td>-15.213584</td>\n",
       "    </tr>\n",
       "  </tbody>\n",
       "</table>\n",
       "</div>"
      ],
      "text/plain": [
       "       network  voxels       mass   cmro2_avg  cmro2_massadj  conf_cmro2  \\\n",
       "0       Visual   23444  195.05408  138.396929     269.948856   -6.162564   \n",
       "1  SomatoMotor   19937  165.87584  127.212886     211.015444   -6.162564   \n",
       "2    DorsalAtt   15119  125.79008  138.396929     174.089607   -6.162564   \n",
       "3     Salience   14697  122.27904  120.872722     147.802004   -3.387384   \n",
       "4      Control   19789  164.64448  149.363255     245.918354   -1.225136   \n",
       "5  DefaultMode   34498  287.02336  146.708735     421.088340   -6.162564   \n",
       "\n",
       "   conf_cmro2_adj  cmro2_lowConf_adj  cmro2_highConf_adj  Conf_saving_percent  \n",
       "0      -12.020332         293.508706          246.389006           -16.053936  \n",
       "1      -10.222204         231.050963          190.979924           -17.342944  \n",
       "2       -7.751894         189.283319          158.895896           -16.053936  \n",
       "3       -4.142061         155.920444          139.683564           -10.413567  \n",
       "4       -2.017119         249.871907          241.964800            -3.164464  \n",
       "5      -17.687997         455.756814          386.419866           -15.213584  "
      ]
     },
     "metadata": {},
     "output_type": "display_data"
    },
    {
     "name": "stdout",
     "output_type": "stream",
     "text": [
      "95% CI: lower\n"
     ]
    },
    {
     "data": {
      "text/html": [
       "<div>\n",
       "<style scoped>\n",
       "    .dataframe tbody tr th:only-of-type {\n",
       "        vertical-align: middle;\n",
       "    }\n",
       "\n",
       "    .dataframe tbody tr th {\n",
       "        vertical-align: top;\n",
       "    }\n",
       "\n",
       "    .dataframe thead th {\n",
       "        text-align: right;\n",
       "    }\n",
       "</style>\n",
       "<table border=\"1\" class=\"dataframe\">\n",
       "  <thead>\n",
       "    <tr style=\"text-align: right;\">\n",
       "      <th></th>\n",
       "      <th>network</th>\n",
       "      <th>voxels</th>\n",
       "      <th>mass</th>\n",
       "      <th>cmro2_avg</th>\n",
       "      <th>cmro2_massadj</th>\n",
       "      <th>conf_cmro2</th>\n",
       "      <th>conf_cmro2_adj</th>\n",
       "      <th>cmro2_lowConf_adj</th>\n",
       "      <th>cmro2_highConf_adj</th>\n",
       "      <th>Conf_saving_percent</th>\n",
       "    </tr>\n",
       "  </thead>\n",
       "  <tbody>\n",
       "    <tr>\n",
       "      <th>0</th>\n",
       "      <td>Visual</td>\n",
       "      <td>23444</td>\n",
       "      <td>195.05408</td>\n",
       "      <td>138.396929</td>\n",
       "      <td>269.948856</td>\n",
       "      <td>-10.286406</td>\n",
       "      <td>-20.064055</td>\n",
       "      <td>309.274404</td>\n",
       "      <td>230.623307</td>\n",
       "      <td>-25.430846</td>\n",
       "    </tr>\n",
       "    <tr>\n",
       "      <th>1</th>\n",
       "      <td>SomatoMotor</td>\n",
       "      <td>19937</td>\n",
       "      <td>165.87584</td>\n",
       "      <td>127.212886</td>\n",
       "      <td>211.015444</td>\n",
       "      <td>-10.286406</td>\n",
       "      <td>-17.062663</td>\n",
       "      <td>244.458263</td>\n",
       "      <td>177.572624</td>\n",
       "      <td>-27.360760</td>\n",
       "    </tr>\n",
       "    <tr>\n",
       "      <th>2</th>\n",
       "      <td>DorsalAtt</td>\n",
       "      <td>15119</td>\n",
       "      <td>125.79008</td>\n",
       "      <td>138.396929</td>\n",
       "      <td>174.089607</td>\n",
       "      <td>-10.286406</td>\n",
       "      <td>-12.939279</td>\n",
       "      <td>199.450594</td>\n",
       "      <td>148.728621</td>\n",
       "      <td>-25.430846</td>\n",
       "    </tr>\n",
       "    <tr>\n",
       "      <th>3</th>\n",
       "      <td>Salience</td>\n",
       "      <td>14697</td>\n",
       "      <td>122.27904</td>\n",
       "      <td>120.872722</td>\n",
       "      <td>147.802004</td>\n",
       "      <td>-7.511227</td>\n",
       "      <td>-9.184657</td>\n",
       "      <td>165.803931</td>\n",
       "      <td>129.800077</td>\n",
       "      <td>-21.714717</td>\n",
       "    </tr>\n",
       "    <tr>\n",
       "      <th>4</th>\n",
       "      <td>Control</td>\n",
       "      <td>19789</td>\n",
       "      <td>164.64448</td>\n",
       "      <td>149.363255</td>\n",
       "      <td>245.918354</td>\n",
       "      <td>-5.348979</td>\n",
       "      <td>-8.806799</td>\n",
       "      <td>263.179679</td>\n",
       "      <td>228.657028</td>\n",
       "      <td>-13.117521</td>\n",
       "    </tr>\n",
       "    <tr>\n",
       "      <th>5</th>\n",
       "      <td>DefaultMode</td>\n",
       "      <td>34498</td>\n",
       "      <td>287.02336</td>\n",
       "      <td>146.708735</td>\n",
       "      <td>421.088340</td>\n",
       "      <td>-10.286406</td>\n",
       "      <td>-29.524389</td>\n",
       "      <td>478.956143</td>\n",
       "      <td>363.220537</td>\n",
       "      <td>-24.164134</td>\n",
       "    </tr>\n",
       "  </tbody>\n",
       "</table>\n",
       "</div>"
      ],
      "text/plain": [
       "       network  voxels       mass   cmro2_avg  cmro2_massadj  conf_cmro2  \\\n",
       "0       Visual   23444  195.05408  138.396929     269.948856  -10.286406   \n",
       "1  SomatoMotor   19937  165.87584  127.212886     211.015444  -10.286406   \n",
       "2    DorsalAtt   15119  125.79008  138.396929     174.089607  -10.286406   \n",
       "3     Salience   14697  122.27904  120.872722     147.802004   -7.511227   \n",
       "4      Control   19789  164.64448  149.363255     245.918354   -5.348979   \n",
       "5  DefaultMode   34498  287.02336  146.708735     421.088340  -10.286406   \n",
       "\n",
       "   conf_cmro2_adj  cmro2_lowConf_adj  cmro2_highConf_adj  Conf_saving_percent  \n",
       "0      -20.064055         309.274404          230.623307           -25.430846  \n",
       "1      -17.062663         244.458263          177.572624           -27.360760  \n",
       "2      -12.939279         199.450594          148.728621           -25.430846  \n",
       "3       -9.184657         165.803931          129.800077           -21.714717  \n",
       "4       -8.806799         263.179679          228.657028           -13.117521  \n",
       "5      -29.524389         478.956143          363.220537           -24.164134  "
      ]
     },
     "metadata": {},
     "output_type": "display_data"
    },
    {
     "name": "stdout",
     "output_type": "stream",
     "text": [
      "95% CI: higher\n"
     ]
    },
    {
     "data": {
      "text/html": [
       "<div>\n",
       "<style scoped>\n",
       "    .dataframe tbody tr th:only-of-type {\n",
       "        vertical-align: middle;\n",
       "    }\n",
       "\n",
       "    .dataframe tbody tr th {\n",
       "        vertical-align: top;\n",
       "    }\n",
       "\n",
       "    .dataframe thead th {\n",
       "        text-align: right;\n",
       "    }\n",
       "</style>\n",
       "<table border=\"1\" class=\"dataframe\">\n",
       "  <thead>\n",
       "    <tr style=\"text-align: right;\">\n",
       "      <th></th>\n",
       "      <th>network</th>\n",
       "      <th>voxels</th>\n",
       "      <th>mass</th>\n",
       "      <th>cmro2_avg</th>\n",
       "      <th>cmro2_massadj</th>\n",
       "      <th>conf_cmro2</th>\n",
       "      <th>conf_cmro2_adj</th>\n",
       "      <th>cmro2_lowConf_adj</th>\n",
       "      <th>cmro2_highConf_adj</th>\n",
       "      <th>Conf_saving_percent</th>\n",
       "    </tr>\n",
       "  </thead>\n",
       "  <tbody>\n",
       "    <tr>\n",
       "      <th>0</th>\n",
       "      <td>Visual</td>\n",
       "      <td>23444</td>\n",
       "      <td>195.05408</td>\n",
       "      <td>138.396929</td>\n",
       "      <td>269.948856</td>\n",
       "      <td>-2.038721</td>\n",
       "      <td>-3.976608</td>\n",
       "      <td>277.743007</td>\n",
       "      <td>262.154705</td>\n",
       "      <td>-5.612491</td>\n",
       "    </tr>\n",
       "    <tr>\n",
       "      <th>1</th>\n",
       "      <td>SomatoMotor</td>\n",
       "      <td>19937</td>\n",
       "      <td>165.87584</td>\n",
       "      <td>127.212886</td>\n",
       "      <td>211.015444</td>\n",
       "      <td>-2.038721</td>\n",
       "      <td>-3.381745</td>\n",
       "      <td>217.643664</td>\n",
       "      <td>204.387223</td>\n",
       "      <td>-6.090892</td>\n",
       "    </tr>\n",
       "    <tr>\n",
       "      <th>2</th>\n",
       "      <td>DorsalAtt</td>\n",
       "      <td>15119</td>\n",
       "      <td>125.79008</td>\n",
       "      <td>138.396929</td>\n",
       "      <td>174.089607</td>\n",
       "      <td>-2.038721</td>\n",
       "      <td>-2.564508</td>\n",
       "      <td>179.116044</td>\n",
       "      <td>169.063171</td>\n",
       "      <td>-5.612491</td>\n",
       "    </tr>\n",
       "    <tr>\n",
       "      <th>3</th>\n",
       "      <td>Salience</td>\n",
       "      <td>14697</td>\n",
       "      <td>122.27904</td>\n",
       "      <td>120.872722</td>\n",
       "      <td>147.802004</td>\n",
       "      <td>0.736458</td>\n",
       "      <td>0.900534</td>\n",
       "      <td>146.036957</td>\n",
       "      <td>149.567052</td>\n",
       "      <td>2.417261</td>\n",
       "    </tr>\n",
       "    <tr>\n",
       "      <th>4</th>\n",
       "      <td>Control</td>\n",
       "      <td>19789</td>\n",
       "      <td>164.64448</td>\n",
       "      <td>149.363255</td>\n",
       "      <td>245.918354</td>\n",
       "      <td>2.898707</td>\n",
       "      <td>4.772561</td>\n",
       "      <td>236.564135</td>\n",
       "      <td>255.272573</td>\n",
       "      <td>7.908400</td>\n",
       "    </tr>\n",
       "    <tr>\n",
       "      <th>5</th>\n",
       "      <td>DefaultMode</td>\n",
       "      <td>34498</td>\n",
       "      <td>287.02336</td>\n",
       "      <td>146.708735</td>\n",
       "      <td>421.088340</td>\n",
       "      <td>-2.038721</td>\n",
       "      <td>-5.851605</td>\n",
       "      <td>432.557485</td>\n",
       "      <td>409.619196</td>\n",
       "      <td>-5.302946</td>\n",
       "    </tr>\n",
       "  </tbody>\n",
       "</table>\n",
       "</div>"
      ],
      "text/plain": [
       "       network  voxels       mass   cmro2_avg  cmro2_massadj  conf_cmro2  \\\n",
       "0       Visual   23444  195.05408  138.396929     269.948856   -2.038721   \n",
       "1  SomatoMotor   19937  165.87584  127.212886     211.015444   -2.038721   \n",
       "2    DorsalAtt   15119  125.79008  138.396929     174.089607   -2.038721   \n",
       "3     Salience   14697  122.27904  120.872722     147.802004    0.736458   \n",
       "4      Control   19789  164.64448  149.363255     245.918354    2.898707   \n",
       "5  DefaultMode   34498  287.02336  146.708735     421.088340   -2.038721   \n",
       "\n",
       "   conf_cmro2_adj  cmro2_lowConf_adj  cmro2_highConf_adj  Conf_saving_percent  \n",
       "0       -3.976608         277.743007          262.154705            -5.612491  \n",
       "1       -3.381745         217.643664          204.387223            -6.090892  \n",
       "2       -2.564508         179.116044          169.063171            -5.612491  \n",
       "3        0.900534         146.036957          149.567052             2.417261  \n",
       "4        4.772561         236.564135          255.272573             7.908400  \n",
       "5       -5.851605         432.557485          409.619196            -5.302946  "
      ]
     },
     "metadata": {},
     "output_type": "display_data"
    }
   ],
   "source": [
    "print('Estimated energy savings:')\n",
    "df_savings = calc_confidence_savings(df_nw_vox.copy(), df_lmer_annot, 'Coefficient')\n",
    "display(df_savings)\n",
    "print('95% CI: lower')\n",
    "df_savings_lowCI = calc_confidence_savings(df_nw_vox.copy(), df_lmer_annot, 'CI_low')\n",
    "display(df_savings_lowCI)\n",
    "print('95% CI: higher')\n",
    "df_savings_highCI = calc_confidence_savings(df_nw_vox.copy(), df_lmer_annot, 'CI_high')\n",
    "display(df_savings_highCI)"
   ]
  },
  {
   "cell_type": "markdown",
   "metadata": {},
   "source": [
    "## Polar bar plot"
   ]
  },
  {
   "cell_type": "code",
   "execution_count": 14,
   "metadata": {},
   "outputs": [],
   "source": [
    "from plotly.express import bar_polar\n",
    "import plotly.graph_objects as go"
   ]
  },
  {
   "cell_type": "code",
   "execution_count": 23,
   "metadata": {},
   "outputs": [
    {
     "data": {
      "text/html": [
       "<div>\n",
       "<style scoped>\n",
       "    .dataframe tbody tr th:only-of-type {\n",
       "        vertical-align: middle;\n",
       "    }\n",
       "\n",
       "    .dataframe tbody tr th {\n",
       "        vertical-align: top;\n",
       "    }\n",
       "\n",
       "    .dataframe thead th {\n",
       "        text-align: right;\n",
       "    }\n",
       "</style>\n",
       "<table border=\"1\" class=\"dataframe\">\n",
       "  <thead>\n",
       "    <tr style=\"text-align: right;\">\n",
       "      <th></th>\n",
       "      <th>network</th>\n",
       "      <th>confidence</th>\n",
       "      <th>CMRO2</th>\n",
       "    </tr>\n",
       "  </thead>\n",
       "  <tbody>\n",
       "    <tr>\n",
       "      <th>0</th>\n",
       "      <td>Visual</td>\n",
       "      <td>average</td>\n",
       "      <td>23.559850</td>\n",
       "    </tr>\n",
       "    <tr>\n",
       "      <th>1</th>\n",
       "      <td>SomatoMotor</td>\n",
       "      <td>average</td>\n",
       "      <td>20.035520</td>\n",
       "    </tr>\n",
       "    <tr>\n",
       "      <th>2</th>\n",
       "      <td>DorsalAtt</td>\n",
       "      <td>average</td>\n",
       "      <td>15.193711</td>\n",
       "    </tr>\n",
       "    <tr>\n",
       "      <th>3</th>\n",
       "      <td>Salience</td>\n",
       "      <td>average</td>\n",
       "      <td>8.118440</td>\n",
       "    </tr>\n",
       "    <tr>\n",
       "      <th>4</th>\n",
       "      <td>Control</td>\n",
       "      <td>average</td>\n",
       "      <td>3.953553</td>\n",
       "    </tr>\n",
       "    <tr>\n",
       "      <th>5</th>\n",
       "      <td>DefaultMode</td>\n",
       "      <td>average</td>\n",
       "      <td>34.668474</td>\n",
       "    </tr>\n",
       "    <tr>\n",
       "      <th>6</th>\n",
       "      <td>Visual</td>\n",
       "      <td>low confidence</td>\n",
       "      <td>23.559850</td>\n",
       "    </tr>\n",
       "    <tr>\n",
       "      <th>7</th>\n",
       "      <td>SomatoMotor</td>\n",
       "      <td>low confidence</td>\n",
       "      <td>20.035520</td>\n",
       "    </tr>\n",
       "    <tr>\n",
       "      <th>8</th>\n",
       "      <td>DorsalAtt</td>\n",
       "      <td>low confidence</td>\n",
       "      <td>15.193711</td>\n",
       "    </tr>\n",
       "    <tr>\n",
       "      <th>9</th>\n",
       "      <td>Salience</td>\n",
       "      <td>low confidence</td>\n",
       "      <td>8.118440</td>\n",
       "    </tr>\n",
       "    <tr>\n",
       "      <th>10</th>\n",
       "      <td>Control</td>\n",
       "      <td>low confidence</td>\n",
       "      <td>3.953553</td>\n",
       "    </tr>\n",
       "    <tr>\n",
       "      <th>11</th>\n",
       "      <td>DefaultMode</td>\n",
       "      <td>low confidence</td>\n",
       "      <td>34.668474</td>\n",
       "    </tr>\n",
       "    <tr>\n",
       "      <th>12</th>\n",
       "      <td>Visual</td>\n",
       "      <td>high confidence</td>\n",
       "      <td>246.389006</td>\n",
       "    </tr>\n",
       "    <tr>\n",
       "      <th>13</th>\n",
       "      <td>SomatoMotor</td>\n",
       "      <td>high confidence</td>\n",
       "      <td>190.979924</td>\n",
       "    </tr>\n",
       "    <tr>\n",
       "      <th>14</th>\n",
       "      <td>DorsalAtt</td>\n",
       "      <td>high confidence</td>\n",
       "      <td>158.895896</td>\n",
       "    </tr>\n",
       "    <tr>\n",
       "      <th>15</th>\n",
       "      <td>Salience</td>\n",
       "      <td>high confidence</td>\n",
       "      <td>139.683564</td>\n",
       "    </tr>\n",
       "    <tr>\n",
       "      <th>16</th>\n",
       "      <td>Control</td>\n",
       "      <td>high confidence</td>\n",
       "      <td>241.964800</td>\n",
       "    </tr>\n",
       "    <tr>\n",
       "      <th>17</th>\n",
       "      <td>DefaultMode</td>\n",
       "      <td>high confidence</td>\n",
       "      <td>386.419866</td>\n",
       "    </tr>\n",
       "  </tbody>\n",
       "</table>\n",
       "</div>"
      ],
      "text/plain": [
       "        network          confidence       CMRO2\n",
       "0        Visual          average      23.559850\n",
       "1   SomatoMotor          average      20.035520\n",
       "2     DorsalAtt          average      15.193711\n",
       "3      Salience          average       8.118440\n",
       "4       Control          average       3.953553\n",
       "5   DefaultMode          average      34.668474\n",
       "6        Visual   low confidence      23.559850\n",
       "7   SomatoMotor   low confidence      20.035520\n",
       "8     DorsalAtt   low confidence      15.193711\n",
       "9      Salience   low confidence       8.118440\n",
       "10      Control   low confidence       3.953553\n",
       "11  DefaultMode   low confidence      34.668474\n",
       "12       Visual  high confidence     246.389006\n",
       "13  SomatoMotor  high confidence     190.979924\n",
       "14    DorsalAtt  high confidence     158.895896\n",
       "15     Salience  high confidence     139.683564\n",
       "16      Control  high confidence     241.964800\n",
       "17  DefaultMode  high confidence     386.419866"
      ]
     },
     "execution_count": 23,
     "metadata": {},
     "output_type": "execute_result"
    }
   ],
   "source": [
    "### Reformat the previously created dataframe for plotting\n",
    "df_plot = df_savings[['network','cmro2_massadj','cmro2_lowConf_adj','cmro2_highConf_adj']]\n",
    "\n",
    "# Instead of absolute cost, calculate differences in cost that can be plotted as stacked bars\n",
    "df_plot['cmro2_lowConf_adj'] = df_plot['cmro2_lowConf_adj'] - df_plot['cmro2_massadj']\n",
    "df_plot['cmro2_massadj'] = df_plot['cmro2_massadj'] - df_plot['cmro2_highConf_adj']\n",
    "\n",
    "df_plot = df_plot.melt(id_vars=['network'])\n",
    "df_plot = df_plot.rename(columns={'variable':'confidence', 'value':'CMRO2'})\n",
    "# padding category levels because legend gets cut when saving figure\n",
    "df_plot = df_plot.replace({'confidence':{'cmro2_massadj':'average   ', 'cmro2_lowConf_adj':'low confidence   ', 'cmro2_highConf_adj':'high confidence   '}})\n",
    "df_plot"
   ]
  },
  {
   "cell_type": "code",
   "execution_count": 25,
   "metadata": {},
   "outputs": [
    {
     "data": {
      "application/vnd.plotly.v1+json": {
       "config": {
        "plotlyServerURL": "https://plot.ly"
       },
       "data": [
        {
         "hovertemplate": "confidence=high confidence   <br>CMRO2=%{r}<br>network=%{theta}<extra></extra>",
         "legendgroup": "high confidence   ",
         "marker": {
          "color": "navajowhite",
          "pattern": {
           "shape": ""
          }
         },
         "name": "high confidence   ",
         "r": [
          246.38900590865626,
          190.97992366806693,
          158.89589576578118,
          139.68356448550082,
          241.96480042617645,
          386.4198664994237
         ],
         "showlegend": true,
         "subplot": "polar",
         "theta": [
          "Visual",
          "SomatoMotor",
          "DorsalAtt",
          "Salience",
          "Control",
          "DefaultMode"
         ],
         "type": "barpolar"
        },
        {
         "hovertemplate": "confidence=average   <br>CMRO2=%{r}<br>network=%{theta}<extra></extra>",
         "legendgroup": "average   ",
         "marker": {
          "color": "sandybrown",
          "pattern": {
           "shape": ""
          }
         },
         "name": "average   ",
         "r": [
          23.559849920330578,
          20.03551987125195,
          15.193711437701666,
          8.118439805842343,
          3.953553305818474,
          34.66847391876661
         ],
         "showlegend": true,
         "subplot": "polar",
         "theta": [
          "Visual",
          "SomatoMotor",
          "DorsalAtt",
          "Salience",
          "Control",
          "DefaultMode"
         ],
         "type": "barpolar"
        },
        {
         "hovertemplate": "confidence=low confidence   <br>CMRO2=%{r}<br>network=%{theta}<extra></extra>",
         "legendgroup": "low confidence   ",
         "marker": {
          "color": "darkorange",
          "pattern": {
           "shape": ""
          }
         },
         "name": "low confidence   ",
         "r": [
          23.559849920330578,
          20.03551987125195,
          15.193711437701666,
          8.118439805842343,
          3.953553305818474,
          34.66847391876661
         ],
         "showlegend": true,
         "subplot": "polar",
         "theta": [
          "Visual",
          "SomatoMotor",
          "DorsalAtt",
          "Salience",
          "Control",
          "DefaultMode"
         ],
         "type": "barpolar"
        }
       ],
       "layout": {
        "barmode": "relative",
        "font": {
         "size": 25
        },
        "height": 600,
        "legend": {
         "title": {
          "text": "confidence"
         },
         "tracegroupgap": 0,
         "traceorder": "reversed"
        },
        "margin": {
         "b": 100,
         "l": 100,
         "t": 100
        },
        "polar": {
         "angularaxis": {
          "categoryarray": [
           "DefaultMode",
           "Visual",
           "Control",
           "SomatoMotor",
           "DorsalAtt",
           "Salience"
          ],
          "categoryorder": "array",
          "direction": "clockwise",
          "rotation": 90
         },
         "domain": {
          "x": [
           0,
           1
          ],
          "y": [
           0,
           1
          ]
         },
         "radialaxis": {
          "tickfont": {
           "size": 18
          }
         }
        },
        "template": {
         "data": {
          "bar": [
           {
            "error_x": {
             "color": "#2a3f5f"
            },
            "error_y": {
             "color": "#2a3f5f"
            },
            "marker": {
             "line": {
              "color": "#E5ECF6",
              "width": 0.5
             },
             "pattern": {
              "fillmode": "overlay",
              "size": 10,
              "solidity": 0.2
             }
            },
            "type": "bar"
           }
          ],
          "barpolar": [
           {
            "marker": {
             "line": {
              "color": "#E5ECF6",
              "width": 0.5
             },
             "pattern": {
              "fillmode": "overlay",
              "size": 10,
              "solidity": 0.2
             }
            },
            "type": "barpolar"
           }
          ],
          "carpet": [
           {
            "aaxis": {
             "endlinecolor": "#2a3f5f",
             "gridcolor": "white",
             "linecolor": "white",
             "minorgridcolor": "white",
             "startlinecolor": "#2a3f5f"
            },
            "baxis": {
             "endlinecolor": "#2a3f5f",
             "gridcolor": "white",
             "linecolor": "white",
             "minorgridcolor": "white",
             "startlinecolor": "#2a3f5f"
            },
            "type": "carpet"
           }
          ],
          "choropleth": [
           {
            "colorbar": {
             "outlinewidth": 0,
             "ticks": ""
            },
            "type": "choropleth"
           }
          ],
          "contour": [
           {
            "colorbar": {
             "outlinewidth": 0,
             "ticks": ""
            },
            "colorscale": [
             [
              0,
              "#0d0887"
             ],
             [
              0.1111111111111111,
              "#46039f"
             ],
             [
              0.2222222222222222,
              "#7201a8"
             ],
             [
              0.3333333333333333,
              "#9c179e"
             ],
             [
              0.4444444444444444,
              "#bd3786"
             ],
             [
              0.5555555555555556,
              "#d8576b"
             ],
             [
              0.6666666666666666,
              "#ed7953"
             ],
             [
              0.7777777777777778,
              "#fb9f3a"
             ],
             [
              0.8888888888888888,
              "#fdca26"
             ],
             [
              1,
              "#f0f921"
             ]
            ],
            "type": "contour"
           }
          ],
          "contourcarpet": [
           {
            "colorbar": {
             "outlinewidth": 0,
             "ticks": ""
            },
            "type": "contourcarpet"
           }
          ],
          "heatmap": [
           {
            "colorbar": {
             "outlinewidth": 0,
             "ticks": ""
            },
            "colorscale": [
             [
              0,
              "#0d0887"
             ],
             [
              0.1111111111111111,
              "#46039f"
             ],
             [
              0.2222222222222222,
              "#7201a8"
             ],
             [
              0.3333333333333333,
              "#9c179e"
             ],
             [
              0.4444444444444444,
              "#bd3786"
             ],
             [
              0.5555555555555556,
              "#d8576b"
             ],
             [
              0.6666666666666666,
              "#ed7953"
             ],
             [
              0.7777777777777778,
              "#fb9f3a"
             ],
             [
              0.8888888888888888,
              "#fdca26"
             ],
             [
              1,
              "#f0f921"
             ]
            ],
            "type": "heatmap"
           }
          ],
          "heatmapgl": [
           {
            "colorbar": {
             "outlinewidth": 0,
             "ticks": ""
            },
            "colorscale": [
             [
              0,
              "#0d0887"
             ],
             [
              0.1111111111111111,
              "#46039f"
             ],
             [
              0.2222222222222222,
              "#7201a8"
             ],
             [
              0.3333333333333333,
              "#9c179e"
             ],
             [
              0.4444444444444444,
              "#bd3786"
             ],
             [
              0.5555555555555556,
              "#d8576b"
             ],
             [
              0.6666666666666666,
              "#ed7953"
             ],
             [
              0.7777777777777778,
              "#fb9f3a"
             ],
             [
              0.8888888888888888,
              "#fdca26"
             ],
             [
              1,
              "#f0f921"
             ]
            ],
            "type": "heatmapgl"
           }
          ],
          "histogram": [
           {
            "marker": {
             "pattern": {
              "fillmode": "overlay",
              "size": 10,
              "solidity": 0.2
             }
            },
            "type": "histogram"
           }
          ],
          "histogram2d": [
           {
            "colorbar": {
             "outlinewidth": 0,
             "ticks": ""
            },
            "colorscale": [
             [
              0,
              "#0d0887"
             ],
             [
              0.1111111111111111,
              "#46039f"
             ],
             [
              0.2222222222222222,
              "#7201a8"
             ],
             [
              0.3333333333333333,
              "#9c179e"
             ],
             [
              0.4444444444444444,
              "#bd3786"
             ],
             [
              0.5555555555555556,
              "#d8576b"
             ],
             [
              0.6666666666666666,
              "#ed7953"
             ],
             [
              0.7777777777777778,
              "#fb9f3a"
             ],
             [
              0.8888888888888888,
              "#fdca26"
             ],
             [
              1,
              "#f0f921"
             ]
            ],
            "type": "histogram2d"
           }
          ],
          "histogram2dcontour": [
           {
            "colorbar": {
             "outlinewidth": 0,
             "ticks": ""
            },
            "colorscale": [
             [
              0,
              "#0d0887"
             ],
             [
              0.1111111111111111,
              "#46039f"
             ],
             [
              0.2222222222222222,
              "#7201a8"
             ],
             [
              0.3333333333333333,
              "#9c179e"
             ],
             [
              0.4444444444444444,
              "#bd3786"
             ],
             [
              0.5555555555555556,
              "#d8576b"
             ],
             [
              0.6666666666666666,
              "#ed7953"
             ],
             [
              0.7777777777777778,
              "#fb9f3a"
             ],
             [
              0.8888888888888888,
              "#fdca26"
             ],
             [
              1,
              "#f0f921"
             ]
            ],
            "type": "histogram2dcontour"
           }
          ],
          "mesh3d": [
           {
            "colorbar": {
             "outlinewidth": 0,
             "ticks": ""
            },
            "type": "mesh3d"
           }
          ],
          "parcoords": [
           {
            "line": {
             "colorbar": {
              "outlinewidth": 0,
              "ticks": ""
             }
            },
            "type": "parcoords"
           }
          ],
          "pie": [
           {
            "automargin": true,
            "type": "pie"
           }
          ],
          "scatter": [
           {
            "fillpattern": {
             "fillmode": "overlay",
             "size": 10,
             "solidity": 0.2
            },
            "type": "scatter"
           }
          ],
          "scatter3d": [
           {
            "line": {
             "colorbar": {
              "outlinewidth": 0,
              "ticks": ""
             }
            },
            "marker": {
             "colorbar": {
              "outlinewidth": 0,
              "ticks": ""
             }
            },
            "type": "scatter3d"
           }
          ],
          "scattercarpet": [
           {
            "marker": {
             "colorbar": {
              "outlinewidth": 0,
              "ticks": ""
             }
            },
            "type": "scattercarpet"
           }
          ],
          "scattergeo": [
           {
            "marker": {
             "colorbar": {
              "outlinewidth": 0,
              "ticks": ""
             }
            },
            "type": "scattergeo"
           }
          ],
          "scattergl": [
           {
            "marker": {
             "colorbar": {
              "outlinewidth": 0,
              "ticks": ""
             }
            },
            "type": "scattergl"
           }
          ],
          "scattermapbox": [
           {
            "marker": {
             "colorbar": {
              "outlinewidth": 0,
              "ticks": ""
             }
            },
            "type": "scattermapbox"
           }
          ],
          "scatterpolar": [
           {
            "marker": {
             "colorbar": {
              "outlinewidth": 0,
              "ticks": ""
             }
            },
            "type": "scatterpolar"
           }
          ],
          "scatterpolargl": [
           {
            "marker": {
             "colorbar": {
              "outlinewidth": 0,
              "ticks": ""
             }
            },
            "type": "scatterpolargl"
           }
          ],
          "scatterternary": [
           {
            "marker": {
             "colorbar": {
              "outlinewidth": 0,
              "ticks": ""
             }
            },
            "type": "scatterternary"
           }
          ],
          "surface": [
           {
            "colorbar": {
             "outlinewidth": 0,
             "ticks": ""
            },
            "colorscale": [
             [
              0,
              "#0d0887"
             ],
             [
              0.1111111111111111,
              "#46039f"
             ],
             [
              0.2222222222222222,
              "#7201a8"
             ],
             [
              0.3333333333333333,
              "#9c179e"
             ],
             [
              0.4444444444444444,
              "#bd3786"
             ],
             [
              0.5555555555555556,
              "#d8576b"
             ],
             [
              0.6666666666666666,
              "#ed7953"
             ],
             [
              0.7777777777777778,
              "#fb9f3a"
             ],
             [
              0.8888888888888888,
              "#fdca26"
             ],
             [
              1,
              "#f0f921"
             ]
            ],
            "type": "surface"
           }
          ],
          "table": [
           {
            "cells": {
             "fill": {
              "color": "#EBF0F8"
             },
             "line": {
              "color": "white"
             }
            },
            "header": {
             "fill": {
              "color": "#C8D4E3"
             },
             "line": {
              "color": "white"
             }
            },
            "type": "table"
           }
          ]
         },
         "layout": {
          "annotationdefaults": {
           "arrowcolor": "#2a3f5f",
           "arrowhead": 0,
           "arrowwidth": 1
          },
          "autotypenumbers": "strict",
          "coloraxis": {
           "colorbar": {
            "outlinewidth": 0,
            "ticks": ""
           }
          },
          "colorscale": {
           "diverging": [
            [
             0,
             "#8e0152"
            ],
            [
             0.1,
             "#c51b7d"
            ],
            [
             0.2,
             "#de77ae"
            ],
            [
             0.3,
             "#f1b6da"
            ],
            [
             0.4,
             "#fde0ef"
            ],
            [
             0.5,
             "#f7f7f7"
            ],
            [
             0.6,
             "#e6f5d0"
            ],
            [
             0.7,
             "#b8e186"
            ],
            [
             0.8,
             "#7fbc41"
            ],
            [
             0.9,
             "#4d9221"
            ],
            [
             1,
             "#276419"
            ]
           ],
           "sequential": [
            [
             0,
             "#0d0887"
            ],
            [
             0.1111111111111111,
             "#46039f"
            ],
            [
             0.2222222222222222,
             "#7201a8"
            ],
            [
             0.3333333333333333,
             "#9c179e"
            ],
            [
             0.4444444444444444,
             "#bd3786"
            ],
            [
             0.5555555555555556,
             "#d8576b"
            ],
            [
             0.6666666666666666,
             "#ed7953"
            ],
            [
             0.7777777777777778,
             "#fb9f3a"
            ],
            [
             0.8888888888888888,
             "#fdca26"
            ],
            [
             1,
             "#f0f921"
            ]
           ],
           "sequentialminus": [
            [
             0,
             "#0d0887"
            ],
            [
             0.1111111111111111,
             "#46039f"
            ],
            [
             0.2222222222222222,
             "#7201a8"
            ],
            [
             0.3333333333333333,
             "#9c179e"
            ],
            [
             0.4444444444444444,
             "#bd3786"
            ],
            [
             0.5555555555555556,
             "#d8576b"
            ],
            [
             0.6666666666666666,
             "#ed7953"
            ],
            [
             0.7777777777777778,
             "#fb9f3a"
            ],
            [
             0.8888888888888888,
             "#fdca26"
            ],
            [
             1,
             "#f0f921"
            ]
           ]
          },
          "colorway": [
           "#636efa",
           "#EF553B",
           "#00cc96",
           "#ab63fa",
           "#FFA15A",
           "#19d3f3",
           "#FF6692",
           "#B6E880",
           "#FF97FF",
           "#FECB52"
          ],
          "font": {
           "color": "#2a3f5f"
          },
          "geo": {
           "bgcolor": "white",
           "lakecolor": "white",
           "landcolor": "#E5ECF6",
           "showlakes": true,
           "showland": true,
           "subunitcolor": "white"
          },
          "hoverlabel": {
           "align": "left"
          },
          "hovermode": "closest",
          "mapbox": {
           "style": "light"
          },
          "paper_bgcolor": "white",
          "plot_bgcolor": "#E5ECF6",
          "polar": {
           "angularaxis": {
            "gridcolor": "white",
            "linecolor": "white",
            "ticks": ""
           },
           "bgcolor": "#E5ECF6",
           "radialaxis": {
            "gridcolor": "white",
            "linecolor": "white",
            "ticks": ""
           }
          },
          "scene": {
           "xaxis": {
            "backgroundcolor": "#E5ECF6",
            "gridcolor": "white",
            "gridwidth": 2,
            "linecolor": "white",
            "showbackground": true,
            "ticks": "",
            "zerolinecolor": "white"
           },
           "yaxis": {
            "backgroundcolor": "#E5ECF6",
            "gridcolor": "white",
            "gridwidth": 2,
            "linecolor": "white",
            "showbackground": true,
            "ticks": "",
            "zerolinecolor": "white"
           },
           "zaxis": {
            "backgroundcolor": "#E5ECF6",
            "gridcolor": "white",
            "gridwidth": 2,
            "linecolor": "white",
            "showbackground": true,
            "ticks": "",
            "zerolinecolor": "white"
           }
          },
          "shapedefaults": {
           "line": {
            "color": "#2a3f5f"
           }
          },
          "ternary": {
           "aaxis": {
            "gridcolor": "white",
            "linecolor": "white",
            "ticks": ""
           },
           "baxis": {
            "gridcolor": "white",
            "linecolor": "white",
            "ticks": ""
           },
           "bgcolor": "#E5ECF6",
           "caxis": {
            "gridcolor": "white",
            "linecolor": "white",
            "ticks": ""
           }
          },
          "title": {
           "x": 0.05
          },
          "xaxis": {
           "automargin": true,
           "gridcolor": "white",
           "linecolor": "white",
           "ticks": "",
           "title": {
            "standoff": 15
           },
           "zerolinecolor": "white",
           "zerolinewidth": 2
          },
          "yaxis": {
           "automargin": true,
           "gridcolor": "white",
           "linecolor": "white",
           "ticks": "",
           "title": {
            "standoff": 15
           },
           "zerolinecolor": "white",
           "zerolinewidth": 2
          }
         }
        },
        "width": 900
       }
      },
      "text/html": [
       "<div>                            <div id=\"40d366c5-be6a-41e6-af60-c506b00a0557\" class=\"plotly-graph-div\" style=\"height:600px; width:900px;\"></div>            <script type=\"text/javascript\">                require([\"plotly\"], function(Plotly) {                    window.PLOTLYENV=window.PLOTLYENV || {};                                    if (document.getElementById(\"40d366c5-be6a-41e6-af60-c506b00a0557\")) {                    Plotly.newPlot(                        \"40d366c5-be6a-41e6-af60-c506b00a0557\",                        [{\"hovertemplate\":\"confidence=high confidence   <br>CMRO2=%{r}<br>network=%{theta}<extra></extra>\",\"legendgroup\":\"high confidence   \",\"marker\":{\"color\":\"navajowhite\",\"pattern\":{\"shape\":\"\"}},\"name\":\"high confidence   \",\"r\":[246.38900590865626,190.97992366806693,158.89589576578118,139.68356448550082,241.96480042617645,386.4198664994237],\"showlegend\":true,\"subplot\":\"polar\",\"theta\":[\"Visual\",\"SomatoMotor\",\"DorsalAtt\",\"Salience\",\"Control\",\"DefaultMode\"],\"type\":\"barpolar\"},{\"hovertemplate\":\"confidence=average   <br>CMRO2=%{r}<br>network=%{theta}<extra></extra>\",\"legendgroup\":\"average   \",\"marker\":{\"color\":\"sandybrown\",\"pattern\":{\"shape\":\"\"}},\"name\":\"average   \",\"r\":[23.559849920330578,20.03551987125195,15.193711437701666,8.118439805842343,3.953553305818474,34.66847391876661],\"showlegend\":true,\"subplot\":\"polar\",\"theta\":[\"Visual\",\"SomatoMotor\",\"DorsalAtt\",\"Salience\",\"Control\",\"DefaultMode\"],\"type\":\"barpolar\"},{\"hovertemplate\":\"confidence=low confidence   <br>CMRO2=%{r}<br>network=%{theta}<extra></extra>\",\"legendgroup\":\"low confidence   \",\"marker\":{\"color\":\"darkorange\",\"pattern\":{\"shape\":\"\"}},\"name\":\"low confidence   \",\"r\":[23.559849920330578,20.03551987125195,15.193711437701666,8.118439805842343,3.953553305818474,34.66847391876661],\"showlegend\":true,\"subplot\":\"polar\",\"theta\":[\"Visual\",\"SomatoMotor\",\"DorsalAtt\",\"Salience\",\"Control\",\"DefaultMode\"],\"type\":\"barpolar\"}],                        {\"template\":{\"data\":{\"histogram2dcontour\":[{\"type\":\"histogram2dcontour\",\"colorbar\":{\"outlinewidth\":0,\"ticks\":\"\"},\"colorscale\":[[0.0,\"#0d0887\"],[0.1111111111111111,\"#46039f\"],[0.2222222222222222,\"#7201a8\"],[0.3333333333333333,\"#9c179e\"],[0.4444444444444444,\"#bd3786\"],[0.5555555555555556,\"#d8576b\"],[0.6666666666666666,\"#ed7953\"],[0.7777777777777778,\"#fb9f3a\"],[0.8888888888888888,\"#fdca26\"],[1.0,\"#f0f921\"]]}],\"choropleth\":[{\"type\":\"choropleth\",\"colorbar\":{\"outlinewidth\":0,\"ticks\":\"\"}}],\"histogram2d\":[{\"type\":\"histogram2d\",\"colorbar\":{\"outlinewidth\":0,\"ticks\":\"\"},\"colorscale\":[[0.0,\"#0d0887\"],[0.1111111111111111,\"#46039f\"],[0.2222222222222222,\"#7201a8\"],[0.3333333333333333,\"#9c179e\"],[0.4444444444444444,\"#bd3786\"],[0.5555555555555556,\"#d8576b\"],[0.6666666666666666,\"#ed7953\"],[0.7777777777777778,\"#fb9f3a\"],[0.8888888888888888,\"#fdca26\"],[1.0,\"#f0f921\"]]}],\"heatmap\":[{\"type\":\"heatmap\",\"colorbar\":{\"outlinewidth\":0,\"ticks\":\"\"},\"colorscale\":[[0.0,\"#0d0887\"],[0.1111111111111111,\"#46039f\"],[0.2222222222222222,\"#7201a8\"],[0.3333333333333333,\"#9c179e\"],[0.4444444444444444,\"#bd3786\"],[0.5555555555555556,\"#d8576b\"],[0.6666666666666666,\"#ed7953\"],[0.7777777777777778,\"#fb9f3a\"],[0.8888888888888888,\"#fdca26\"],[1.0,\"#f0f921\"]]}],\"heatmapgl\":[{\"type\":\"heatmapgl\",\"colorbar\":{\"outlinewidth\":0,\"ticks\":\"\"},\"colorscale\":[[0.0,\"#0d0887\"],[0.1111111111111111,\"#46039f\"],[0.2222222222222222,\"#7201a8\"],[0.3333333333333333,\"#9c179e\"],[0.4444444444444444,\"#bd3786\"],[0.5555555555555556,\"#d8576b\"],[0.6666666666666666,\"#ed7953\"],[0.7777777777777778,\"#fb9f3a\"],[0.8888888888888888,\"#fdca26\"],[1.0,\"#f0f921\"]]}],\"contourcarpet\":[{\"type\":\"contourcarpet\",\"colorbar\":{\"outlinewidth\":0,\"ticks\":\"\"}}],\"contour\":[{\"type\":\"contour\",\"colorbar\":{\"outlinewidth\":0,\"ticks\":\"\"},\"colorscale\":[[0.0,\"#0d0887\"],[0.1111111111111111,\"#46039f\"],[0.2222222222222222,\"#7201a8\"],[0.3333333333333333,\"#9c179e\"],[0.4444444444444444,\"#bd3786\"],[0.5555555555555556,\"#d8576b\"],[0.6666666666666666,\"#ed7953\"],[0.7777777777777778,\"#fb9f3a\"],[0.8888888888888888,\"#fdca26\"],[1.0,\"#f0f921\"]]}],\"surface\":[{\"type\":\"surface\",\"colorbar\":{\"outlinewidth\":0,\"ticks\":\"\"},\"colorscale\":[[0.0,\"#0d0887\"],[0.1111111111111111,\"#46039f\"],[0.2222222222222222,\"#7201a8\"],[0.3333333333333333,\"#9c179e\"],[0.4444444444444444,\"#bd3786\"],[0.5555555555555556,\"#d8576b\"],[0.6666666666666666,\"#ed7953\"],[0.7777777777777778,\"#fb9f3a\"],[0.8888888888888888,\"#fdca26\"],[1.0,\"#f0f921\"]]}],\"mesh3d\":[{\"type\":\"mesh3d\",\"colorbar\":{\"outlinewidth\":0,\"ticks\":\"\"}}],\"scatter\":[{\"fillpattern\":{\"fillmode\":\"overlay\",\"size\":10,\"solidity\":0.2},\"type\":\"scatter\"}],\"parcoords\":[{\"type\":\"parcoords\",\"line\":{\"colorbar\":{\"outlinewidth\":0,\"ticks\":\"\"}}}],\"scatterpolargl\":[{\"type\":\"scatterpolargl\",\"marker\":{\"colorbar\":{\"outlinewidth\":0,\"ticks\":\"\"}}}],\"bar\":[{\"error_x\":{\"color\":\"#2a3f5f\"},\"error_y\":{\"color\":\"#2a3f5f\"},\"marker\":{\"line\":{\"color\":\"#E5ECF6\",\"width\":0.5},\"pattern\":{\"fillmode\":\"overlay\",\"size\":10,\"solidity\":0.2}},\"type\":\"bar\"}],\"scattergeo\":[{\"type\":\"scattergeo\",\"marker\":{\"colorbar\":{\"outlinewidth\":0,\"ticks\":\"\"}}}],\"scatterpolar\":[{\"type\":\"scatterpolar\",\"marker\":{\"colorbar\":{\"outlinewidth\":0,\"ticks\":\"\"}}}],\"histogram\":[{\"marker\":{\"pattern\":{\"fillmode\":\"overlay\",\"size\":10,\"solidity\":0.2}},\"type\":\"histogram\"}],\"scattergl\":[{\"type\":\"scattergl\",\"marker\":{\"colorbar\":{\"outlinewidth\":0,\"ticks\":\"\"}}}],\"scatter3d\":[{\"type\":\"scatter3d\",\"line\":{\"colorbar\":{\"outlinewidth\":0,\"ticks\":\"\"}},\"marker\":{\"colorbar\":{\"outlinewidth\":0,\"ticks\":\"\"}}}],\"scattermapbox\":[{\"type\":\"scattermapbox\",\"marker\":{\"colorbar\":{\"outlinewidth\":0,\"ticks\":\"\"}}}],\"scatterternary\":[{\"type\":\"scatterternary\",\"marker\":{\"colorbar\":{\"outlinewidth\":0,\"ticks\":\"\"}}}],\"scattercarpet\":[{\"type\":\"scattercarpet\",\"marker\":{\"colorbar\":{\"outlinewidth\":0,\"ticks\":\"\"}}}],\"carpet\":[{\"aaxis\":{\"endlinecolor\":\"#2a3f5f\",\"gridcolor\":\"white\",\"linecolor\":\"white\",\"minorgridcolor\":\"white\",\"startlinecolor\":\"#2a3f5f\"},\"baxis\":{\"endlinecolor\":\"#2a3f5f\",\"gridcolor\":\"white\",\"linecolor\":\"white\",\"minorgridcolor\":\"white\",\"startlinecolor\":\"#2a3f5f\"},\"type\":\"carpet\"}],\"table\":[{\"cells\":{\"fill\":{\"color\":\"#EBF0F8\"},\"line\":{\"color\":\"white\"}},\"header\":{\"fill\":{\"color\":\"#C8D4E3\"},\"line\":{\"color\":\"white\"}},\"type\":\"table\"}],\"barpolar\":[{\"marker\":{\"line\":{\"color\":\"#E5ECF6\",\"width\":0.5},\"pattern\":{\"fillmode\":\"overlay\",\"size\":10,\"solidity\":0.2}},\"type\":\"barpolar\"}],\"pie\":[{\"automargin\":true,\"type\":\"pie\"}]},\"layout\":{\"autotypenumbers\":\"strict\",\"colorway\":[\"#636efa\",\"#EF553B\",\"#00cc96\",\"#ab63fa\",\"#FFA15A\",\"#19d3f3\",\"#FF6692\",\"#B6E880\",\"#FF97FF\",\"#FECB52\"],\"font\":{\"color\":\"#2a3f5f\"},\"hovermode\":\"closest\",\"hoverlabel\":{\"align\":\"left\"},\"paper_bgcolor\":\"white\",\"plot_bgcolor\":\"#E5ECF6\",\"polar\":{\"bgcolor\":\"#E5ECF6\",\"angularaxis\":{\"gridcolor\":\"white\",\"linecolor\":\"white\",\"ticks\":\"\"},\"radialaxis\":{\"gridcolor\":\"white\",\"linecolor\":\"white\",\"ticks\":\"\"}},\"ternary\":{\"bgcolor\":\"#E5ECF6\",\"aaxis\":{\"gridcolor\":\"white\",\"linecolor\":\"white\",\"ticks\":\"\"},\"baxis\":{\"gridcolor\":\"white\",\"linecolor\":\"white\",\"ticks\":\"\"},\"caxis\":{\"gridcolor\":\"white\",\"linecolor\":\"white\",\"ticks\":\"\"}},\"coloraxis\":{\"colorbar\":{\"outlinewidth\":0,\"ticks\":\"\"}},\"colorscale\":{\"sequential\":[[0.0,\"#0d0887\"],[0.1111111111111111,\"#46039f\"],[0.2222222222222222,\"#7201a8\"],[0.3333333333333333,\"#9c179e\"],[0.4444444444444444,\"#bd3786\"],[0.5555555555555556,\"#d8576b\"],[0.6666666666666666,\"#ed7953\"],[0.7777777777777778,\"#fb9f3a\"],[0.8888888888888888,\"#fdca26\"],[1.0,\"#f0f921\"]],\"sequentialminus\":[[0.0,\"#0d0887\"],[0.1111111111111111,\"#46039f\"],[0.2222222222222222,\"#7201a8\"],[0.3333333333333333,\"#9c179e\"],[0.4444444444444444,\"#bd3786\"],[0.5555555555555556,\"#d8576b\"],[0.6666666666666666,\"#ed7953\"],[0.7777777777777778,\"#fb9f3a\"],[0.8888888888888888,\"#fdca26\"],[1.0,\"#f0f921\"]],\"diverging\":[[0,\"#8e0152\"],[0.1,\"#c51b7d\"],[0.2,\"#de77ae\"],[0.3,\"#f1b6da\"],[0.4,\"#fde0ef\"],[0.5,\"#f7f7f7\"],[0.6,\"#e6f5d0\"],[0.7,\"#b8e186\"],[0.8,\"#7fbc41\"],[0.9,\"#4d9221\"],[1,\"#276419\"]]},\"xaxis\":{\"gridcolor\":\"white\",\"linecolor\":\"white\",\"ticks\":\"\",\"title\":{\"standoff\":15},\"zerolinecolor\":\"white\",\"automargin\":true,\"zerolinewidth\":2},\"yaxis\":{\"gridcolor\":\"white\",\"linecolor\":\"white\",\"ticks\":\"\",\"title\":{\"standoff\":15},\"zerolinecolor\":\"white\",\"automargin\":true,\"zerolinewidth\":2},\"scene\":{\"xaxis\":{\"backgroundcolor\":\"#E5ECF6\",\"gridcolor\":\"white\",\"linecolor\":\"white\",\"showbackground\":true,\"ticks\":\"\",\"zerolinecolor\":\"white\",\"gridwidth\":2},\"yaxis\":{\"backgroundcolor\":\"#E5ECF6\",\"gridcolor\":\"white\",\"linecolor\":\"white\",\"showbackground\":true,\"ticks\":\"\",\"zerolinecolor\":\"white\",\"gridwidth\":2},\"zaxis\":{\"backgroundcolor\":\"#E5ECF6\",\"gridcolor\":\"white\",\"linecolor\":\"white\",\"showbackground\":true,\"ticks\":\"\",\"zerolinecolor\":\"white\",\"gridwidth\":2}},\"shapedefaults\":{\"line\":{\"color\":\"#2a3f5f\"}},\"annotationdefaults\":{\"arrowcolor\":\"#2a3f5f\",\"arrowhead\":0,\"arrowwidth\":1},\"geo\":{\"bgcolor\":\"white\",\"landcolor\":\"#E5ECF6\",\"subunitcolor\":\"white\",\"showland\":true,\"showlakes\":true,\"lakecolor\":\"white\"},\"title\":{\"x\":0.05},\"mapbox\":{\"style\":\"light\"}}},\"polar\":{\"domain\":{\"x\":[0.0,1.0],\"y\":[0.0,1.0]},\"angularaxis\":{\"direction\":\"clockwise\",\"rotation\":90,\"categoryorder\":\"array\",\"categoryarray\":[\"DefaultMode\",\"Visual\",\"Control\",\"SomatoMotor\",\"DorsalAtt\",\"Salience\"]},\"radialaxis\":{\"tickfont\":{\"size\":18}}},\"legend\":{\"title\":{\"text\":\"confidence\"},\"tracegroupgap\":0,\"traceorder\":\"reversed\"},\"margin\":{\"t\":100,\"b\":100,\"l\":100},\"barmode\":\"relative\",\"height\":600,\"width\":900,\"font\":{\"size\":25}},                        {\"responsive\": true}                    ).then(function(){\n",
       "                            \n",
       "var gd = document.getElementById('40d366c5-be6a-41e6-af60-c506b00a0557');\n",
       "var x = new MutationObserver(function (mutations, observer) {{\n",
       "        var display = window.getComputedStyle(gd).display;\n",
       "        if (!display || display === 'none') {{\n",
       "            console.log([gd, 'removed!']);\n",
       "            Plotly.purge(gd);\n",
       "            observer.disconnect();\n",
       "        }}\n",
       "}});\n",
       "\n",
       "// Listen for the removal of the full notebook cells\n",
       "var notebookContainer = gd.closest('#notebook-container');\n",
       "if (notebookContainer) {{\n",
       "    x.observe(notebookContainer, {childList: true});\n",
       "}}\n",
       "\n",
       "// Listen for the clearing of the current output cell\n",
       "var outputEl = gd.closest('.output');\n",
       "if (outputEl) {{\n",
       "    x.observe(outputEl, {childList: true});\n",
       "}}\n",
       "\n",
       "                        })                };                });            </script>        </div>"
      ]
     },
     "metadata": {},
     "output_type": "display_data"
    }
   ],
   "source": [
    "fig = bar_polar(df_plot, r=\"CMRO2\", theta=\"network\", color=\"confidence\",\n",
    "                   category_orders={'confidence':['high confidence   ','average   ','low confidence   '], 'network':['DefaultMode','Visual','Control','SomatoMotor','DorsalAtt','Salience']},\n",
    "                   color_discrete_map={'high confidence   ':'navajowhite', 'average   ':'sandybrown','low confidence   ':'darkorange'},\n",
    "                   width=900, height=600)\n",
    "\n",
    "fig.update_layout(font_size=25, margin={'t':100, 'b':100, 'l':100})\n",
    "fig.update_layout(legend_traceorder=\"reversed\")\n",
    "fig.update_polars(radialaxis_tickfont={'size':18})\n",
    "\n",
    "fig.show()\n",
    "\n",
    "# Note that the paper figure has an radial axis title added manually"
   ]
  },
  {
   "cell_type": "markdown",
   "metadata": {},
   "source": [
    "## Bar plot"
   ]
  },
  {
   "cell_type": "code",
   "execution_count": 26,
   "metadata": {},
   "outputs": [],
   "source": [
    "def calculate_cost_change(df, sig_network_slopes):\n",
    "    '''Return the percent change of oxygen consumption across all networks between high confidence and low confidence subjects'''\n",
    "\n",
    "    cmro2_lowConf = np.array([row['cmro2_lowConf_adj'] if row['network'] in (sig_network_slopes) else row['cmro2_massadj'] for ind, row in df.iterrows()]).sum()\n",
    "    cmro2_highConf = np.array([row['cmro2_highConf_adj'] if row['network'] in (sig_network_slopes) else row['cmro2_massadj'] for ind, row in df.iterrows()]).sum()\n",
    "\n",
    "    return ((cmro2_highConf - cmro2_lowConf) / cmro2_lowConf) * 100\n"
   ]
  },
  {
   "cell_type": "code",
   "execution_count": 29,
   "metadata": {},
   "outputs": [
    {
     "name": "stdout",
     "output_type": "stream",
     "text": [
      "Cortical cost saving: -11.96 [95% CI: [-4.12, -19.19]]\n"
     ]
    }
   ],
   "source": [
    "### Only include changes for networks with a reliable effect of confidence based on simple slope analyses\n",
    "sig_network_slopes = ['Visual','SomatoMotor','DorsalAtt','DefaultMode']\n",
    "\n",
    "saving_upperCI = calculate_cost_change(df_savings_highCI, sig_network_slopes)\n",
    "saving_avg = calculate_cost_change(df_savings, sig_network_slopes)\n",
    "saving_lowerCI = calculate_cost_change(df_savings_lowCI, sig_network_slopes)\n",
    "\n",
    "ci = saving_upperCI - saving_avg\n",
    "\n",
    "print(f'Cortical cost saving: {saving_avg.round(2)} [95% CI: [{saving_upperCI.round(2)}, {saving_lowerCI.round(2)}]]')"
   ]
  },
  {
   "cell_type": "code",
   "execution_count": 32,
   "metadata": {},
   "outputs": [
    {
     "data": {
      "application/vnd.plotly.v1+json": {
       "config": {
        "plotlyServerURL": "https://plot.ly"
       },
       "data": [
        {
         "marker": {
          "color": "navajowhite"
         },
         "name": "High confidence          ",
         "type": "bar",
         "x": [
          "Cortex"
         ],
         "y": [
          88.04370882821544
         ]
        },
        {
         "marker": {
          "color": "darkorange"
         },
         "name": "Low confidence          ",
         "type": "bar",
         "x": [
          "Cortex"
         ],
         "y": [
          11.956291171784558
         ]
        },
        {
         "error_y": {
          "array": [
           7.836041547407241
          ],
          "thickness": 2,
          "type": "data",
          "width": 8
         },
         "marker": {
          "color": "black",
          "size": 15
         },
         "showlegend": false,
         "type": "scatter",
         "x": [
          "Cortex"
         ],
         "y": [
          88.04370882821544
         ]
        }
       ],
       "layout": {
        "barmode": "stack",
        "font": {
         "size": 20
        },
        "height": 600,
        "template": {
         "data": {
          "bar": [
           {
            "error_x": {
             "color": "#2a3f5f"
            },
            "error_y": {
             "color": "#2a3f5f"
            },
            "marker": {
             "line": {
              "color": "white",
              "width": 0.5
             },
             "pattern": {
              "fillmode": "overlay",
              "size": 10,
              "solidity": 0.2
             }
            },
            "type": "bar"
           }
          ],
          "barpolar": [
           {
            "marker": {
             "line": {
              "color": "white",
              "width": 0.5
             },
             "pattern": {
              "fillmode": "overlay",
              "size": 10,
              "solidity": 0.2
             }
            },
            "type": "barpolar"
           }
          ],
          "carpet": [
           {
            "aaxis": {
             "endlinecolor": "#2a3f5f",
             "gridcolor": "#C8D4E3",
             "linecolor": "#C8D4E3",
             "minorgridcolor": "#C8D4E3",
             "startlinecolor": "#2a3f5f"
            },
            "baxis": {
             "endlinecolor": "#2a3f5f",
             "gridcolor": "#C8D4E3",
             "linecolor": "#C8D4E3",
             "minorgridcolor": "#C8D4E3",
             "startlinecolor": "#2a3f5f"
            },
            "type": "carpet"
           }
          ],
          "choropleth": [
           {
            "colorbar": {
             "outlinewidth": 0,
             "ticks": ""
            },
            "type": "choropleth"
           }
          ],
          "contour": [
           {
            "colorbar": {
             "outlinewidth": 0,
             "ticks": ""
            },
            "colorscale": [
             [
              0,
              "#0d0887"
             ],
             [
              0.1111111111111111,
              "#46039f"
             ],
             [
              0.2222222222222222,
              "#7201a8"
             ],
             [
              0.3333333333333333,
              "#9c179e"
             ],
             [
              0.4444444444444444,
              "#bd3786"
             ],
             [
              0.5555555555555556,
              "#d8576b"
             ],
             [
              0.6666666666666666,
              "#ed7953"
             ],
             [
              0.7777777777777778,
              "#fb9f3a"
             ],
             [
              0.8888888888888888,
              "#fdca26"
             ],
             [
              1,
              "#f0f921"
             ]
            ],
            "type": "contour"
           }
          ],
          "contourcarpet": [
           {
            "colorbar": {
             "outlinewidth": 0,
             "ticks": ""
            },
            "type": "contourcarpet"
           }
          ],
          "heatmap": [
           {
            "colorbar": {
             "outlinewidth": 0,
             "ticks": ""
            },
            "colorscale": [
             [
              0,
              "#0d0887"
             ],
             [
              0.1111111111111111,
              "#46039f"
             ],
             [
              0.2222222222222222,
              "#7201a8"
             ],
             [
              0.3333333333333333,
              "#9c179e"
             ],
             [
              0.4444444444444444,
              "#bd3786"
             ],
             [
              0.5555555555555556,
              "#d8576b"
             ],
             [
              0.6666666666666666,
              "#ed7953"
             ],
             [
              0.7777777777777778,
              "#fb9f3a"
             ],
             [
              0.8888888888888888,
              "#fdca26"
             ],
             [
              1,
              "#f0f921"
             ]
            ],
            "type": "heatmap"
           }
          ],
          "heatmapgl": [
           {
            "colorbar": {
             "outlinewidth": 0,
             "ticks": ""
            },
            "colorscale": [
             [
              0,
              "#0d0887"
             ],
             [
              0.1111111111111111,
              "#46039f"
             ],
             [
              0.2222222222222222,
              "#7201a8"
             ],
             [
              0.3333333333333333,
              "#9c179e"
             ],
             [
              0.4444444444444444,
              "#bd3786"
             ],
             [
              0.5555555555555556,
              "#d8576b"
             ],
             [
              0.6666666666666666,
              "#ed7953"
             ],
             [
              0.7777777777777778,
              "#fb9f3a"
             ],
             [
              0.8888888888888888,
              "#fdca26"
             ],
             [
              1,
              "#f0f921"
             ]
            ],
            "type": "heatmapgl"
           }
          ],
          "histogram": [
           {
            "marker": {
             "pattern": {
              "fillmode": "overlay",
              "size": 10,
              "solidity": 0.2
             }
            },
            "type": "histogram"
           }
          ],
          "histogram2d": [
           {
            "colorbar": {
             "outlinewidth": 0,
             "ticks": ""
            },
            "colorscale": [
             [
              0,
              "#0d0887"
             ],
             [
              0.1111111111111111,
              "#46039f"
             ],
             [
              0.2222222222222222,
              "#7201a8"
             ],
             [
              0.3333333333333333,
              "#9c179e"
             ],
             [
              0.4444444444444444,
              "#bd3786"
             ],
             [
              0.5555555555555556,
              "#d8576b"
             ],
             [
              0.6666666666666666,
              "#ed7953"
             ],
             [
              0.7777777777777778,
              "#fb9f3a"
             ],
             [
              0.8888888888888888,
              "#fdca26"
             ],
             [
              1,
              "#f0f921"
             ]
            ],
            "type": "histogram2d"
           }
          ],
          "histogram2dcontour": [
           {
            "colorbar": {
             "outlinewidth": 0,
             "ticks": ""
            },
            "colorscale": [
             [
              0,
              "#0d0887"
             ],
             [
              0.1111111111111111,
              "#46039f"
             ],
             [
              0.2222222222222222,
              "#7201a8"
             ],
             [
              0.3333333333333333,
              "#9c179e"
             ],
             [
              0.4444444444444444,
              "#bd3786"
             ],
             [
              0.5555555555555556,
              "#d8576b"
             ],
             [
              0.6666666666666666,
              "#ed7953"
             ],
             [
              0.7777777777777778,
              "#fb9f3a"
             ],
             [
              0.8888888888888888,
              "#fdca26"
             ],
             [
              1,
              "#f0f921"
             ]
            ],
            "type": "histogram2dcontour"
           }
          ],
          "mesh3d": [
           {
            "colorbar": {
             "outlinewidth": 0,
             "ticks": ""
            },
            "type": "mesh3d"
           }
          ],
          "parcoords": [
           {
            "line": {
             "colorbar": {
              "outlinewidth": 0,
              "ticks": ""
             }
            },
            "type": "parcoords"
           }
          ],
          "pie": [
           {
            "automargin": true,
            "type": "pie"
           }
          ],
          "scatter": [
           {
            "fillpattern": {
             "fillmode": "overlay",
             "size": 10,
             "solidity": 0.2
            },
            "type": "scatter"
           }
          ],
          "scatter3d": [
           {
            "line": {
             "colorbar": {
              "outlinewidth": 0,
              "ticks": ""
             }
            },
            "marker": {
             "colorbar": {
              "outlinewidth": 0,
              "ticks": ""
             }
            },
            "type": "scatter3d"
           }
          ],
          "scattercarpet": [
           {
            "marker": {
             "colorbar": {
              "outlinewidth": 0,
              "ticks": ""
             }
            },
            "type": "scattercarpet"
           }
          ],
          "scattergeo": [
           {
            "marker": {
             "colorbar": {
              "outlinewidth": 0,
              "ticks": ""
             }
            },
            "type": "scattergeo"
           }
          ],
          "scattergl": [
           {
            "marker": {
             "colorbar": {
              "outlinewidth": 0,
              "ticks": ""
             }
            },
            "type": "scattergl"
           }
          ],
          "scattermapbox": [
           {
            "marker": {
             "colorbar": {
              "outlinewidth": 0,
              "ticks": ""
             }
            },
            "type": "scattermapbox"
           }
          ],
          "scatterpolar": [
           {
            "marker": {
             "colorbar": {
              "outlinewidth": 0,
              "ticks": ""
             }
            },
            "type": "scatterpolar"
           }
          ],
          "scatterpolargl": [
           {
            "marker": {
             "colorbar": {
              "outlinewidth": 0,
              "ticks": ""
             }
            },
            "type": "scatterpolargl"
           }
          ],
          "scatterternary": [
           {
            "marker": {
             "colorbar": {
              "outlinewidth": 0,
              "ticks": ""
             }
            },
            "type": "scatterternary"
           }
          ],
          "surface": [
           {
            "colorbar": {
             "outlinewidth": 0,
             "ticks": ""
            },
            "colorscale": [
             [
              0,
              "#0d0887"
             ],
             [
              0.1111111111111111,
              "#46039f"
             ],
             [
              0.2222222222222222,
              "#7201a8"
             ],
             [
              0.3333333333333333,
              "#9c179e"
             ],
             [
              0.4444444444444444,
              "#bd3786"
             ],
             [
              0.5555555555555556,
              "#d8576b"
             ],
             [
              0.6666666666666666,
              "#ed7953"
             ],
             [
              0.7777777777777778,
              "#fb9f3a"
             ],
             [
              0.8888888888888888,
              "#fdca26"
             ],
             [
              1,
              "#f0f921"
             ]
            ],
            "type": "surface"
           }
          ],
          "table": [
           {
            "cells": {
             "fill": {
              "color": "#EBF0F8"
             },
             "line": {
              "color": "white"
             }
            },
            "header": {
             "fill": {
              "color": "#C8D4E3"
             },
             "line": {
              "color": "white"
             }
            },
            "type": "table"
           }
          ]
         },
         "layout": {
          "annotationdefaults": {
           "arrowcolor": "#2a3f5f",
           "arrowhead": 0,
           "arrowwidth": 1
          },
          "autotypenumbers": "strict",
          "coloraxis": {
           "colorbar": {
            "outlinewidth": 0,
            "ticks": ""
           }
          },
          "colorscale": {
           "diverging": [
            [
             0,
             "#8e0152"
            ],
            [
             0.1,
             "#c51b7d"
            ],
            [
             0.2,
             "#de77ae"
            ],
            [
             0.3,
             "#f1b6da"
            ],
            [
             0.4,
             "#fde0ef"
            ],
            [
             0.5,
             "#f7f7f7"
            ],
            [
             0.6,
             "#e6f5d0"
            ],
            [
             0.7,
             "#b8e186"
            ],
            [
             0.8,
             "#7fbc41"
            ],
            [
             0.9,
             "#4d9221"
            ],
            [
             1,
             "#276419"
            ]
           ],
           "sequential": [
            [
             0,
             "#0d0887"
            ],
            [
             0.1111111111111111,
             "#46039f"
            ],
            [
             0.2222222222222222,
             "#7201a8"
            ],
            [
             0.3333333333333333,
             "#9c179e"
            ],
            [
             0.4444444444444444,
             "#bd3786"
            ],
            [
             0.5555555555555556,
             "#d8576b"
            ],
            [
             0.6666666666666666,
             "#ed7953"
            ],
            [
             0.7777777777777778,
             "#fb9f3a"
            ],
            [
             0.8888888888888888,
             "#fdca26"
            ],
            [
             1,
             "#f0f921"
            ]
           ],
           "sequentialminus": [
            [
             0,
             "#0d0887"
            ],
            [
             0.1111111111111111,
             "#46039f"
            ],
            [
             0.2222222222222222,
             "#7201a8"
            ],
            [
             0.3333333333333333,
             "#9c179e"
            ],
            [
             0.4444444444444444,
             "#bd3786"
            ],
            [
             0.5555555555555556,
             "#d8576b"
            ],
            [
             0.6666666666666666,
             "#ed7953"
            ],
            [
             0.7777777777777778,
             "#fb9f3a"
            ],
            [
             0.8888888888888888,
             "#fdca26"
            ],
            [
             1,
             "#f0f921"
            ]
           ]
          },
          "colorway": [
           "#636efa",
           "#EF553B",
           "#00cc96",
           "#ab63fa",
           "#FFA15A",
           "#19d3f3",
           "#FF6692",
           "#B6E880",
           "#FF97FF",
           "#FECB52"
          ],
          "font": {
           "color": "#2a3f5f"
          },
          "geo": {
           "bgcolor": "white",
           "lakecolor": "white",
           "landcolor": "white",
           "showlakes": true,
           "showland": true,
           "subunitcolor": "#C8D4E3"
          },
          "hoverlabel": {
           "align": "left"
          },
          "hovermode": "closest",
          "mapbox": {
           "style": "light"
          },
          "paper_bgcolor": "white",
          "plot_bgcolor": "white",
          "polar": {
           "angularaxis": {
            "gridcolor": "#EBF0F8",
            "linecolor": "#EBF0F8",
            "ticks": ""
           },
           "bgcolor": "white",
           "radialaxis": {
            "gridcolor": "#EBF0F8",
            "linecolor": "#EBF0F8",
            "ticks": ""
           }
          },
          "scene": {
           "xaxis": {
            "backgroundcolor": "white",
            "gridcolor": "#DFE8F3",
            "gridwidth": 2,
            "linecolor": "#EBF0F8",
            "showbackground": true,
            "ticks": "",
            "zerolinecolor": "#EBF0F8"
           },
           "yaxis": {
            "backgroundcolor": "white",
            "gridcolor": "#DFE8F3",
            "gridwidth": 2,
            "linecolor": "#EBF0F8",
            "showbackground": true,
            "ticks": "",
            "zerolinecolor": "#EBF0F8"
           },
           "zaxis": {
            "backgroundcolor": "white",
            "gridcolor": "#DFE8F3",
            "gridwidth": 2,
            "linecolor": "#EBF0F8",
            "showbackground": true,
            "ticks": "",
            "zerolinecolor": "#EBF0F8"
           }
          },
          "shapedefaults": {
           "line": {
            "color": "#2a3f5f"
           }
          },
          "ternary": {
           "aaxis": {
            "gridcolor": "#DFE8F3",
            "linecolor": "#A2B1C6",
            "ticks": ""
           },
           "baxis": {
            "gridcolor": "#DFE8F3",
            "linecolor": "#A2B1C6",
            "ticks": ""
           },
           "bgcolor": "white",
           "caxis": {
            "gridcolor": "#DFE8F3",
            "linecolor": "#A2B1C6",
            "ticks": ""
           }
          },
          "title": {
           "x": 0.05
          },
          "xaxis": {
           "automargin": true,
           "gridcolor": "#EBF0F8",
           "linecolor": "#EBF0F8",
           "ticks": "",
           "title": {
            "standoff": 15
           },
           "zerolinecolor": "#EBF0F8",
           "zerolinewidth": 2
          },
          "yaxis": {
           "automargin": true,
           "gridcolor": "#EBF0F8",
           "linecolor": "#EBF0F8",
           "ticks": "",
           "title": {
            "standoff": 15
           },
           "zerolinecolor": "#EBF0F8",
           "zerolinewidth": 2
          }
         }
        },
        "width": 500,
        "yaxis": {
         "title": {
          "text": "Energy consumption (%)"
         }
        }
       }
      },
      "text/html": [
       "<div>                            <div id=\"0c522c6e-5129-45da-b983-b512ce7920a3\" class=\"plotly-graph-div\" style=\"height:600px; width:500px;\"></div>            <script type=\"text/javascript\">                require([\"plotly\"], function(Plotly) {                    window.PLOTLYENV=window.PLOTLYENV || {};                                    if (document.getElementById(\"0c522c6e-5129-45da-b983-b512ce7920a3\")) {                    Plotly.newPlot(                        \"0c522c6e-5129-45da-b983-b512ce7920a3\",                        [{\"marker\":{\"color\":\"navajowhite\"},\"name\":\"High confidence          \",\"x\":[\"Cortex\"],\"y\":[88.04370882821544],\"type\":\"bar\"},{\"marker\":{\"color\":\"darkorange\"},\"name\":\"Low confidence          \",\"x\":[\"Cortex\"],\"y\":[11.956291171784558],\"type\":\"bar\"},{\"error_y\":{\"array\":[7.836041547407241],\"thickness\":2,\"type\":\"data\",\"width\":8},\"marker\":{\"color\":\"black\",\"size\":15},\"showlegend\":false,\"x\":[\"Cortex\"],\"y\":[88.04370882821544],\"type\":\"scatter\"}],                        {\"template\":{\"data\":{\"barpolar\":[{\"marker\":{\"line\":{\"color\":\"white\",\"width\":0.5},\"pattern\":{\"fillmode\":\"overlay\",\"size\":10,\"solidity\":0.2}},\"type\":\"barpolar\"}],\"bar\":[{\"error_x\":{\"color\":\"#2a3f5f\"},\"error_y\":{\"color\":\"#2a3f5f\"},\"marker\":{\"line\":{\"color\":\"white\",\"width\":0.5},\"pattern\":{\"fillmode\":\"overlay\",\"size\":10,\"solidity\":0.2}},\"type\":\"bar\"}],\"carpet\":[{\"aaxis\":{\"endlinecolor\":\"#2a3f5f\",\"gridcolor\":\"#C8D4E3\",\"linecolor\":\"#C8D4E3\",\"minorgridcolor\":\"#C8D4E3\",\"startlinecolor\":\"#2a3f5f\"},\"baxis\":{\"endlinecolor\":\"#2a3f5f\",\"gridcolor\":\"#C8D4E3\",\"linecolor\":\"#C8D4E3\",\"minorgridcolor\":\"#C8D4E3\",\"startlinecolor\":\"#2a3f5f\"},\"type\":\"carpet\"}],\"choropleth\":[{\"colorbar\":{\"outlinewidth\":0,\"ticks\":\"\"},\"type\":\"choropleth\"}],\"contourcarpet\":[{\"colorbar\":{\"outlinewidth\":0,\"ticks\":\"\"},\"type\":\"contourcarpet\"}],\"contour\":[{\"colorbar\":{\"outlinewidth\":0,\"ticks\":\"\"},\"colorscale\":[[0.0,\"#0d0887\"],[0.1111111111111111,\"#46039f\"],[0.2222222222222222,\"#7201a8\"],[0.3333333333333333,\"#9c179e\"],[0.4444444444444444,\"#bd3786\"],[0.5555555555555556,\"#d8576b\"],[0.6666666666666666,\"#ed7953\"],[0.7777777777777778,\"#fb9f3a\"],[0.8888888888888888,\"#fdca26\"],[1.0,\"#f0f921\"]],\"type\":\"contour\"}],\"heatmapgl\":[{\"colorbar\":{\"outlinewidth\":0,\"ticks\":\"\"},\"colorscale\":[[0.0,\"#0d0887\"],[0.1111111111111111,\"#46039f\"],[0.2222222222222222,\"#7201a8\"],[0.3333333333333333,\"#9c179e\"],[0.4444444444444444,\"#bd3786\"],[0.5555555555555556,\"#d8576b\"],[0.6666666666666666,\"#ed7953\"],[0.7777777777777778,\"#fb9f3a\"],[0.8888888888888888,\"#fdca26\"],[1.0,\"#f0f921\"]],\"type\":\"heatmapgl\"}],\"heatmap\":[{\"colorbar\":{\"outlinewidth\":0,\"ticks\":\"\"},\"colorscale\":[[0.0,\"#0d0887\"],[0.1111111111111111,\"#46039f\"],[0.2222222222222222,\"#7201a8\"],[0.3333333333333333,\"#9c179e\"],[0.4444444444444444,\"#bd3786\"],[0.5555555555555556,\"#d8576b\"],[0.6666666666666666,\"#ed7953\"],[0.7777777777777778,\"#fb9f3a\"],[0.8888888888888888,\"#fdca26\"],[1.0,\"#f0f921\"]],\"type\":\"heatmap\"}],\"histogram2dcontour\":[{\"colorbar\":{\"outlinewidth\":0,\"ticks\":\"\"},\"colorscale\":[[0.0,\"#0d0887\"],[0.1111111111111111,\"#46039f\"],[0.2222222222222222,\"#7201a8\"],[0.3333333333333333,\"#9c179e\"],[0.4444444444444444,\"#bd3786\"],[0.5555555555555556,\"#d8576b\"],[0.6666666666666666,\"#ed7953\"],[0.7777777777777778,\"#fb9f3a\"],[0.8888888888888888,\"#fdca26\"],[1.0,\"#f0f921\"]],\"type\":\"histogram2dcontour\"}],\"histogram2d\":[{\"colorbar\":{\"outlinewidth\":0,\"ticks\":\"\"},\"colorscale\":[[0.0,\"#0d0887\"],[0.1111111111111111,\"#46039f\"],[0.2222222222222222,\"#7201a8\"],[0.3333333333333333,\"#9c179e\"],[0.4444444444444444,\"#bd3786\"],[0.5555555555555556,\"#d8576b\"],[0.6666666666666666,\"#ed7953\"],[0.7777777777777778,\"#fb9f3a\"],[0.8888888888888888,\"#fdca26\"],[1.0,\"#f0f921\"]],\"type\":\"histogram2d\"}],\"histogram\":[{\"marker\":{\"pattern\":{\"fillmode\":\"overlay\",\"size\":10,\"solidity\":0.2}},\"type\":\"histogram\"}],\"mesh3d\":[{\"colorbar\":{\"outlinewidth\":0,\"ticks\":\"\"},\"type\":\"mesh3d\"}],\"parcoords\":[{\"line\":{\"colorbar\":{\"outlinewidth\":0,\"ticks\":\"\"}},\"type\":\"parcoords\"}],\"pie\":[{\"automargin\":true,\"type\":\"pie\"}],\"scatter3d\":[{\"line\":{\"colorbar\":{\"outlinewidth\":0,\"ticks\":\"\"}},\"marker\":{\"colorbar\":{\"outlinewidth\":0,\"ticks\":\"\"}},\"type\":\"scatter3d\"}],\"scattercarpet\":[{\"marker\":{\"colorbar\":{\"outlinewidth\":0,\"ticks\":\"\"}},\"type\":\"scattercarpet\"}],\"scattergeo\":[{\"marker\":{\"colorbar\":{\"outlinewidth\":0,\"ticks\":\"\"}},\"type\":\"scattergeo\"}],\"scattergl\":[{\"marker\":{\"colorbar\":{\"outlinewidth\":0,\"ticks\":\"\"}},\"type\":\"scattergl\"}],\"scattermapbox\":[{\"marker\":{\"colorbar\":{\"outlinewidth\":0,\"ticks\":\"\"}},\"type\":\"scattermapbox\"}],\"scatterpolargl\":[{\"marker\":{\"colorbar\":{\"outlinewidth\":0,\"ticks\":\"\"}},\"type\":\"scatterpolargl\"}],\"scatterpolar\":[{\"marker\":{\"colorbar\":{\"outlinewidth\":0,\"ticks\":\"\"}},\"type\":\"scatterpolar\"}],\"scatter\":[{\"fillpattern\":{\"fillmode\":\"overlay\",\"size\":10,\"solidity\":0.2},\"type\":\"scatter\"}],\"scatterternary\":[{\"marker\":{\"colorbar\":{\"outlinewidth\":0,\"ticks\":\"\"}},\"type\":\"scatterternary\"}],\"surface\":[{\"colorbar\":{\"outlinewidth\":0,\"ticks\":\"\"},\"colorscale\":[[0.0,\"#0d0887\"],[0.1111111111111111,\"#46039f\"],[0.2222222222222222,\"#7201a8\"],[0.3333333333333333,\"#9c179e\"],[0.4444444444444444,\"#bd3786\"],[0.5555555555555556,\"#d8576b\"],[0.6666666666666666,\"#ed7953\"],[0.7777777777777778,\"#fb9f3a\"],[0.8888888888888888,\"#fdca26\"],[1.0,\"#f0f921\"]],\"type\":\"surface\"}],\"table\":[{\"cells\":{\"fill\":{\"color\":\"#EBF0F8\"},\"line\":{\"color\":\"white\"}},\"header\":{\"fill\":{\"color\":\"#C8D4E3\"},\"line\":{\"color\":\"white\"}},\"type\":\"table\"}]},\"layout\":{\"annotationdefaults\":{\"arrowcolor\":\"#2a3f5f\",\"arrowhead\":0,\"arrowwidth\":1},\"autotypenumbers\":\"strict\",\"coloraxis\":{\"colorbar\":{\"outlinewidth\":0,\"ticks\":\"\"}},\"colorscale\":{\"diverging\":[[0,\"#8e0152\"],[0.1,\"#c51b7d\"],[0.2,\"#de77ae\"],[0.3,\"#f1b6da\"],[0.4,\"#fde0ef\"],[0.5,\"#f7f7f7\"],[0.6,\"#e6f5d0\"],[0.7,\"#b8e186\"],[0.8,\"#7fbc41\"],[0.9,\"#4d9221\"],[1,\"#276419\"]],\"sequential\":[[0.0,\"#0d0887\"],[0.1111111111111111,\"#46039f\"],[0.2222222222222222,\"#7201a8\"],[0.3333333333333333,\"#9c179e\"],[0.4444444444444444,\"#bd3786\"],[0.5555555555555556,\"#d8576b\"],[0.6666666666666666,\"#ed7953\"],[0.7777777777777778,\"#fb9f3a\"],[0.8888888888888888,\"#fdca26\"],[1.0,\"#f0f921\"]],\"sequentialminus\":[[0.0,\"#0d0887\"],[0.1111111111111111,\"#46039f\"],[0.2222222222222222,\"#7201a8\"],[0.3333333333333333,\"#9c179e\"],[0.4444444444444444,\"#bd3786\"],[0.5555555555555556,\"#d8576b\"],[0.6666666666666666,\"#ed7953\"],[0.7777777777777778,\"#fb9f3a\"],[0.8888888888888888,\"#fdca26\"],[1.0,\"#f0f921\"]]},\"colorway\":[\"#636efa\",\"#EF553B\",\"#00cc96\",\"#ab63fa\",\"#FFA15A\",\"#19d3f3\",\"#FF6692\",\"#B6E880\",\"#FF97FF\",\"#FECB52\"],\"font\":{\"color\":\"#2a3f5f\"},\"geo\":{\"bgcolor\":\"white\",\"lakecolor\":\"white\",\"landcolor\":\"white\",\"showlakes\":true,\"showland\":true,\"subunitcolor\":\"#C8D4E3\"},\"hoverlabel\":{\"align\":\"left\"},\"hovermode\":\"closest\",\"mapbox\":{\"style\":\"light\"},\"paper_bgcolor\":\"white\",\"plot_bgcolor\":\"white\",\"polar\":{\"angularaxis\":{\"gridcolor\":\"#EBF0F8\",\"linecolor\":\"#EBF0F8\",\"ticks\":\"\"},\"bgcolor\":\"white\",\"radialaxis\":{\"gridcolor\":\"#EBF0F8\",\"linecolor\":\"#EBF0F8\",\"ticks\":\"\"}},\"scene\":{\"xaxis\":{\"backgroundcolor\":\"white\",\"gridcolor\":\"#DFE8F3\",\"gridwidth\":2,\"linecolor\":\"#EBF0F8\",\"showbackground\":true,\"ticks\":\"\",\"zerolinecolor\":\"#EBF0F8\"},\"yaxis\":{\"backgroundcolor\":\"white\",\"gridcolor\":\"#DFE8F3\",\"gridwidth\":2,\"linecolor\":\"#EBF0F8\",\"showbackground\":true,\"ticks\":\"\",\"zerolinecolor\":\"#EBF0F8\"},\"zaxis\":{\"backgroundcolor\":\"white\",\"gridcolor\":\"#DFE8F3\",\"gridwidth\":2,\"linecolor\":\"#EBF0F8\",\"showbackground\":true,\"ticks\":\"\",\"zerolinecolor\":\"#EBF0F8\"}},\"shapedefaults\":{\"line\":{\"color\":\"#2a3f5f\"}},\"ternary\":{\"aaxis\":{\"gridcolor\":\"#DFE8F3\",\"linecolor\":\"#A2B1C6\",\"ticks\":\"\"},\"baxis\":{\"gridcolor\":\"#DFE8F3\",\"linecolor\":\"#A2B1C6\",\"ticks\":\"\"},\"bgcolor\":\"white\",\"caxis\":{\"gridcolor\":\"#DFE8F3\",\"linecolor\":\"#A2B1C6\",\"ticks\":\"\"}},\"title\":{\"x\":0.05},\"xaxis\":{\"automargin\":true,\"gridcolor\":\"#EBF0F8\",\"linecolor\":\"#EBF0F8\",\"ticks\":\"\",\"title\":{\"standoff\":15},\"zerolinecolor\":\"#EBF0F8\",\"zerolinewidth\":2},\"yaxis\":{\"automargin\":true,\"gridcolor\":\"#EBF0F8\",\"linecolor\":\"#EBF0F8\",\"ticks\":\"\",\"title\":{\"standoff\":15},\"zerolinecolor\":\"#EBF0F8\",\"zerolinewidth\":2}}},\"yaxis\":{\"title\":{\"text\":\"Energy consumption (%)\"}},\"font\":{\"size\":20},\"width\":500,\"height\":600,\"barmode\":\"stack\"},                        {\"responsive\": true}                    ).then(function(){\n",
       "                            \n",
       "var gd = document.getElementById('0c522c6e-5129-45da-b983-b512ce7920a3');\n",
       "var x = new MutationObserver(function (mutations, observer) {{\n",
       "        var display = window.getComputedStyle(gd).display;\n",
       "        if (!display || display === 'none') {{\n",
       "            console.log([gd, 'removed!']);\n",
       "            Plotly.purge(gd);\n",
       "            observer.disconnect();\n",
       "        }}\n",
       "}});\n",
       "\n",
       "// Listen for the removal of the full notebook cells\n",
       "var notebookContainer = gd.closest('#notebook-container');\n",
       "if (notebookContainer) {{\n",
       "    x.observe(notebookContainer, {childList: true});\n",
       "}}\n",
       "\n",
       "// Listen for the clearing of the current output cell\n",
       "var outputEl = gd.closest('.output');\n",
       "if (outputEl) {{\n",
       "    x.observe(outputEl, {childList: true});\n",
       "}}\n",
       "\n",
       "                        })                };                });            </script>        </div>"
      ]
     },
     "metadata": {},
     "output_type": "display_data"
    }
   ],
   "source": [
    "cat=['Cortex']\n",
    "\n",
    "fig = go.Figure([go.Bar(x=cat, y=[100+saving_avg], marker_color='navajowhite', name='High confidence          '),\n",
    "                 go.Bar(x=cat, y=[abs(saving_avg)], marker_color='darkorange', name='Low confidence          '),\n",
    "                 go.Scatter(x=cat, y=[100+saving_avg], marker_color='black', marker_size=15, error_y=dict(type='data', array=[ci], thickness=2, width=8), showlegend=False)\n",
    "                 ])\n",
    "\n",
    "fig.update_yaxes(title='Energy consumption (%)')\n",
    "fig.update_layout(width=500, height=600, barmode='stack', template='plotly_white',\n",
    "                  font=dict(size=20))\n",
    "fig.show()"
   ]
  },
  {
   "cell_type": "markdown",
   "metadata": {},
   "source": [
    "# Opposing effects of confidence and RT"
   ]
  },
  {
   "cell_type": "code",
   "execution_count": 58,
   "metadata": {},
   "outputs": [],
   "source": [
    "from pingouin import corr"
   ]
  },
  {
   "cell_type": "code",
   "execution_count": 59,
   "metadata": {},
   "outputs": [
    {
     "data": {
      "text/html": [
       "<div>\n",
       "<style scoped>\n",
       "    .dataframe tbody tr th:only-of-type {\n",
       "        vertical-align: middle;\n",
       "    }\n",
       "\n",
       "    .dataframe tbody tr th {\n",
       "        vertical-align: top;\n",
       "    }\n",
       "\n",
       "    .dataframe thead th {\n",
       "        text-align: right;\n",
       "    }\n",
       "</style>\n",
       "<table border=\"1\" class=\"dataframe\">\n",
       "  <thead>\n",
       "    <tr style=\"text-align: right;\">\n",
       "      <th></th>\n",
       "      <th>n</th>\n",
       "      <th>r</th>\n",
       "      <th>CI95%</th>\n",
       "      <th>p-val</th>\n",
       "      <th>BF10</th>\n",
       "      <th>power</th>\n",
       "    </tr>\n",
       "  </thead>\n",
       "  <tbody>\n",
       "    <tr>\n",
       "      <th>pearson</th>\n",
       "      <td>41</td>\n",
       "      <td>-0.358135</td>\n",
       "      <td>[-0.6, -0.06]</td>\n",
       "      <td>0.021498</td>\n",
       "      <td>2.499</td>\n",
       "      <td>0.645971</td>\n",
       "    </tr>\n",
       "  </tbody>\n",
       "</table>\n",
       "</div>"
      ],
      "text/plain": [
       "          n         r          CI95%     p-val   BF10     power\n",
       "pearson  41 -0.358135  [-0.6, -0.06]  0.021498  2.499  0.645971"
      ]
     },
     "execution_count": 59,
     "metadata": {},
     "output_type": "execute_result"
    }
   ],
   "source": [
    "### For every SD that confidence increases, RT decreases by 0.36 SDs\n",
    "    # I.e. participants get quicker (lower RT) when they are confident\n",
    "    # Since CMRO2 increases for quicker reactions: Roughly a third of the energy saved with increasing confidence is offset by RT\n",
    "corr(df_data.query(\"condition != 'predictable'\").drop_duplicates('subject')['confidence_z'],\n",
    "    df_data.query(\"condition != 'predictable'\").drop_duplicates('subject')['reaction_time_z'])"
   ]
  }
 ],
 "metadata": {
  "kernelspec": {
   "display_name": "energyBits_py3.8",
   "language": "python",
   "name": "python3"
  },
  "language_info": {
   "codemirror_mode": {
    "name": "ipython",
    "version": 3
   },
   "file_extension": ".py",
   "mimetype": "text/x-python",
   "name": "python",
   "nbconvert_exporter": "python",
   "pygments_lexer": "ipython3",
   "version": "3.8.12"
  }
 },
 "nbformat": 4,
 "nbformat_minor": 2
}
